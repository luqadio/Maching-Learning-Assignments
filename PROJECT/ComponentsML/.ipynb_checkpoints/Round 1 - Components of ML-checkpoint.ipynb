{
 "cells": [
  {
   "cell_type": "markdown",
   "metadata": {
    "deletable": false,
    "editable": false,
    "nbgrader": {
     "cell_type": "markdown",
     "checksum": "f2d854a17f7c436dd7275b702414f62f",
     "grade": false,
     "grade_id": "Introduction",
     "locked": true,
     "schema_version": 3,
     "solution": false
    }
   },
   "source": [
    "# Machine Learning with Python - Components of Machine Learning\n",
    "\n",
    "<img src=\"AMLProblem.png\" alt=\"Drawing\" style=\"width: 600px;\"/>\n",
    " \n",
    "As discussed in Chapter 2 of the [course book](https://arxiv.org/abs/1805.05052), many machine learning (ML) problems and methods consist of three components: \n",
    "\n",
    "1. data points as the basic unit of information; data points are characterized by features (can be measured easily) and labels (high-level information that is difficult to acquire). \n",
    "2. a hypothesis space (also referred to as a ML model) consisting of computationally feasible predictor functions. \n",
    "3. a loss function that is used to assess the quality of a particular predictor function. \n",
    "\n",
    "To implement ML methods, we need to be able to efficiently **store and manipulate** data and predictor functions.  A quite powerful tool to represent and manipulate data and predictor functions are [matrices and vectors](https://en.wikipedia.org/wiki/Matrix_(mathematics)). \n",
    "\n",
    "Indeed, data points can often characterized by a list of numeric attributes, or \"features\", $x_{r}$ which can be stacked conveniently into a vector $\\mathbf{x}=\\big(x_{1},\\ldots,x_{n}\\big)^{T}$. Moreover, many ML methods (such as linear regression or logistic regression) use predictor functions of the form $h(\\mathbf{x}) = \\mathbf{w}^{T} \\mathbf{x}$ with some weight vector $\\mathbf{w}$. Note that once we restrict ourselves to linear functions of the form $h(\\mathbf{x}) = \\mathbf{w}^{T} \\mathbf{x}$, we can represent a predictor function by the weight vector $\\mathbf{w}$. Indeed, given the weight vector $\\mathbf{w}$, we can evaluate the predictor function for any feature vector $\\mathbf{x}$ as $h(\\mathbf{x}) = \\mathbf{w}^{T} \\mathbf{x}$. \n",
    "\n",
    "## Learning goals\n",
    "\n",
    "In this \"warm-up\" exercise you will learn how to \n",
    "\n",
    "* manipulate matrices and vectors,\n",
    "* use Python dictionaries for accessing datasets,\n",
    "* determine the execution time (which is a measure of computational complexity) of code blocks, \n",
    "* read in data from various sources such as files or the internet,\n",
    "* visualize data using scatter plots,\n",
    "* fit simple functions to data. \n",
    "\n",
    "This notebook contains several student tasks which require you to write a few lines of Python code to solve small problems. In particular, you have to fill in the gaps marked as **Student Task**.\n",
    "\n",
    "\n",
    "\n",
    "## Relevant Parts of [Course Book](https://arxiv.org/abs/1805.05052)  \n",
    "\n",
    "Chapter 1; Chapter 2\n",
    "\n",
    "## Additional Material \n",
    "\n",
    "* a tutorial on the Python library `numpy` can be found under [this link](https://hackernoon.com/introduction-to-numpy-1-an-absolute-beginners-guide-to-machine-learning-and-data-science-5d87f13f0d51).\n",
    "\n",
    "* \"Learn the Basics\" and \"Data Science Tutorial\" sections from [this link](https://www.learnpython.org/en/).\n",
    "\n",
    "* a quick refresher for basic properties of matrices can be found under [this link](https://www.math.uwaterloo.ca/~hwolkowi/matrixcookbook.pdf)\n",
    "\n",
    "\n",
    "## Matrices and Vectors\n",
    "<a id=\"Q1\"></a>\n",
    "\n",
    "We now introduce the Python library `numpy`, which provides implementations of many useful matrix and vector operations, e.g. matrix multiplication or computing an eigenvalue decomposition. **Throughout this course we will represent matrices or vectors consistently using numpy data types (\"numpy arrays\").** In particular, a matrix \n",
    "\\begin{equation}\n",
    "\\mathbf{X}  = \\begin{pmatrix} X_{1,1} & X_{1,2}& \\ldots & X_{1,n} \\\\ \n",
    "X_{2,1} & X_{2,2}& \\ldots & X_{2,n} \\\\ \n",
    "\\vdots & \\vdots & \\vdots & \\vdots \\\\ \n",
    "X_{m,1} & X_{m,2} & \\ldots & X_{m,n} \\end{pmatrix}\\in \\mathbb{R}^{m \\times n}\n",
    "\\end{equation} \n",
    "is represented as a numpy array of shape (m,n). A vector \n",
    "\\begin{equation}\n",
    "\\mathbf{x}  = \\begin{pmatrix} x_{1} \\\\ x_{2} \\\\ \\vdots \\\\ x_{m} \\end{pmatrix}\\in \\mathbb{R}^{m}\n",
    "\\end{equation} \n",
    "is represented as a numpy array of shape (m,1). "
   ]
  },
  {
   "cell_type": "markdown",
   "metadata": {
    "deletable": false,
    "editable": false,
    "nbgrader": {
     "cell_type": "markdown",
     "checksum": "a0a2f466988a00a1616fe4b12c1c8ebc",
     "grade": false,
     "grade_id": "cell-5b32b5485870ddb4",
     "locked": true,
     "schema_version": 3,
     "solution": false
    }
   },
   "source": [
    "<a id='LoadDataset'></a>\n",
    "<div class=\" alert alert-info\">\n",
    "    <b>Demo.</b> Vector and Matrix. \n",
    "    \n",
    "The code snippet below creates a [numpy array](http://cs231n.github.io/python-numpy-tutorial/#numpy-arrays) `X` of shape (2,3) to represent the matrix \n",
    "$\n",
    "\\mathbf{X} = \\begin{pmatrix} 11 & 12 & 13 \\\\ 21 & 22 & 23 \\end{pmatrix}.\\\\\n",
    "$\n",
    "The entry $X_{1,1}$ is accessed via the Python expression `X[0,0]` since in Python the indexing of arrays starts with $0$ instead of $1$. \n",
    "</div>"
   ]
  },
  {
   "cell_type": "code",
   "execution_count": 1,
   "metadata": {
    "deletable": false,
    "editable": false,
    "nbgrader": {
     "cell_type": "code",
     "checksum": "eea492b6933110e36d43fe00492d0174",
     "grade": false,
     "grade_id": "cell-f9df313e0963e830",
     "locked": true,
     "schema_version": 3,
     "solution": false
    },
    "scrolled": true
   },
   "outputs": [
    {
     "name": "stdout",
     "output_type": "stream",
     "text": [
      " X = \n",
      " [[11 12 13]\n",
      " [21 22 23]]\n",
      "shape of X  (2, 3)\n"
     ]
    },
    {
     "data": {
      "text/latex": [
       "$\\displaystyle X_{1,1}=11.00$"
      ],
      "text/plain": [
       "<IPython.core.display.Math object>"
      ]
     },
     "metadata": {},
     "output_type": "display_data"
    },
    {
     "data": {
      "text/latex": [
       "$\\displaystyle X_{2,1}=21.00$"
      ],
      "text/plain": [
       "<IPython.core.display.Math object>"
      ]
     },
     "metadata": {},
     "output_type": "display_data"
    }
   ],
   "source": [
    "from IPython.display import display, Math\n",
    "import numpy as np  \n",
    "\n",
    "X = np.array([[11,12,13],[21,22,23]]) \n",
    "\n",
    "print(\" X = \\n\",X)\n",
    "print(\"shape of X \",X.shape)\n",
    "display(Math(r'$X_{1,1}=%02.2f' % X[0,0]))\n",
    "display(Math(r'$X_{2,1}=%02.2f' % X[1,0]))"
   ]
  },
  {
   "cell_type": "markdown",
   "metadata": {
    "deletable": false,
    "editable": false,
    "nbgrader": {
     "cell_type": "markdown",
     "checksum": "6757ff4f84a73b7842f060bc7d3ddc3b",
     "grade": false,
     "grade_id": "cell-170f3e650ccd33b1",
     "locked": true,
     "schema_version": 3,
     "solution": false
    }
   },
   "source": [
    "<a id='LoadDataset'></a>\n",
    "<div class=\" alert alert-info\">\n",
    "    <b>Demo.</b> Creating Matrices and Vectors. \n",
    "  \n",
    "<p>\n",
    "The code snippet below demonstrates how to create numpy arrays of different shapes. \n",
    "Throughout the course, we will consistently use a numpy array of shape $(m,n)$ to represent a matrix \n",
    "with $m$ rows and $n$ columns. A vector of length $m$ will be considered as a matrix with one single column \n",
    "and therefore be represented by a numpy array of shape $(m,1)$. \n",
    "</p>\n",
    "\n",
    "Hints:\n",
    "* The shape (nr or rows and cols) of a numpy array `B` can be determined with `B.shape`\n",
    "* Python is case sensitive, i.e., `X` and `x` are considered as different variables \n",
    "* Please notice that as soon as you create variables `x = ...` and `y = ...`, then these variables still exist as you progress in this notebook, unless you replace (overwrite) them with something else\n",
    "\n",
    "</div>"
   ]
  },
  {
   "cell_type": "code",
   "execution_count": 2,
   "metadata": {
    "deletable": false,
    "editable": false,
    "nbgrader": {
     "cell_type": "code",
     "checksum": "e54230d3c00123fbd0a50fa5ef7627ae",
     "grade": false,
     "grade_id": "Matrices_and_vectors_code",
     "locked": true,
     "schema_version": 3,
     "solution": false
    }
   },
   "outputs": [
    {
     "name": "stdout",
     "output_type": "stream",
     "text": [
      "now we have a vector a =\n",
      " [[1]\n",
      " [2]\n",
      " [3]\n",
      " [4]\n",
      " [5]\n",
      " [6]\n",
      " [7]\n",
      " [8]\n",
      " [9]]\n",
      "the vector a has 9 elements\n",
      "the vector is represented by a numpy array of shape (9, 1) \n",
      "\n",
      "now we have a matrix B = \n",
      " [[0. 0.]\n",
      " [0. 0.]]\n",
      "the matrix B has 2 rows and 2 columns \n",
      "\n",
      "the vector x =\n",
      " [[1.]\n",
      " [1.]\n",
      " [1.]\n",
      " [1.]\n",
      " [1.]]\n"
     ]
    }
   ],
   "source": [
    "# Important libraries to import:\n",
    "# NumPy: is the fundamental package for matrix computations\n",
    "# matplotlib.pyplot: provides convenient functions for plotting data \n",
    "\n",
    "import numpy as np # use shorthand \"np\" for the numpy library (\"package\")\n",
    "\n",
    "\n",
    "# let's create a vector a of length 9:\n",
    "a = np.array([1,2,3,4,5,6,7,8,9]).reshape(-1,1)\n",
    "dimension=np.shape(a)\n",
    "rows = dimension[0]\n",
    "print(\"now we have a vector a =\\n\",a) \n",
    "print(\"the vector a has\", rows, \"elements\")\n",
    "print(\"the vector is represented by a numpy array of shape\", a.shape, \"\\n\")\n",
    "\n",
    "# create a 2 x 2 matrix, denoted B, which contains only zero entries\n",
    "B = np.zeros((2,2))\n",
    "print(\"now we have a matrix B = \\n\",B)\n",
    "dimension=np.shape(B)      # determine dimensions of matrix B\n",
    "rows = dimension[0]        # first element of dimension is the number of rows \n",
    "cols = dimension[1]        # second element of \"dimension\" is the number of cols\n",
    "print(\"the matrix B has\", rows, \"rows and\", cols, \"columns \\n\")\n",
    "\n",
    "# You can use the numpy function `np.ones(n)` to generate a vector of ones (e.g. `[1,1,1, ..., 1]`) \n",
    "\n",
    "x = np.ones(5).reshape(-1,1) \n",
    "print(\"the vector x =\\n\", x)"
   ]
  },
  {
   "cell_type": "markdown",
   "metadata": {
    "deletable": false,
    "editable": false,
    "nbgrader": {
     "cell_type": "markdown",
     "checksum": "0ad21bed1a00ab8be4058e7014abbe55",
     "grade": false,
     "grade_id": "cell-e69489a39724fba4",
     "locked": true,
     "schema_version": 3,
     "solution": false
    }
   },
   "source": [
    "<a id='LoadDataset'></a>\n",
    "<div class=\" alert alert-info\">\n",
    "    <b>Demo.</b> Matrix Mulplication. \n",
    "  \n",
    "The code snippet below implements a Python function `C, rows, cols = Matrix_multiplication(A, B)` which reads in two matrices $\\mathbf{A}$ and $\\mathbf{B}$ and returns the product $\\mathbf{C}=\\mathbf{A} \\mathbf{B}$ along with the number of rows and columns of the resulting matrix. This demonstrates how to declare a function with multiple input and output parameters.\n",
    "</div>"
   ]
  },
  {
   "cell_type": "code",
   "execution_count": 3,
   "metadata": {
    "deletable": false,
    "editable": false,
    "nbgrader": {
     "cell_type": "code",
     "checksum": "305e2e9888f15a3571c5e87ca50d7fb9",
     "grade": false,
     "grade_id": "cell-c98d0b279db39cd5",
     "locked": true,
     "schema_version": 3,
     "solution": false
    }
   },
   "outputs": [],
   "source": [
    "def Matrix_multiplication(A, B):\n",
    "    \"\"\"\n",
    "    Compute the matrix multiplication A*B and its shape\n",
    "    \n",
    "    :param A: array-like, shape=(m, n)\n",
    "    :param B: array-like, shape=(o, p)\n",
    "    \n",
    "    :return: The matrix being the result of the multiplication, the number of rows and the number columns \n",
    "    \"\"\"\n",
    "    #We now construct another matrix H by multiplying the matrices A and B using the function np.dot():\n",
    "    H = np.dot(A,B)\n",
    "    shape = H.shape\n",
    "    \n",
    "    # A matrix that is the product of two matrices with r1 and r2 rows\n",
    "    # and c1 and c2 columns will have r1 rows and c2 columns \n",
    "    \n",
    "    rows = shape[0]\n",
    "    cols = shape[1]\n",
    "    \n",
    "    return H, rows, cols"
   ]
  },
  {
   "cell_type": "markdown",
   "metadata": {
    "deletable": false,
    "editable": false,
    "nbgrader": {
     "cell_type": "markdown",
     "checksum": "c91fcca12d774dca6dbfce47529b75ae",
     "grade": false,
     "grade_id": "cell-4968162774c3e6b6",
     "locked": true,
     "schema_version": 3,
     "solution": false
    }
   },
   "source": [
    "<a id='LoadDataset'></a>\n",
    "<div class=\" alert alert-info\">\n",
    "    <b>Demo.</b> Matrix Operations. \n",
    "  \n",
    "<p>\n",
    "The code snippet below shows how to create numpy array that represent matrices and vectors and how to perform \n",
    "certain operations. \n",
    "</p>\n",
    "\n",
    "</div>"
   ]
  },
  {
   "cell_type": "code",
   "execution_count": 4,
   "metadata": {
    "deletable": false,
    "editable": false,
    "nbgrader": {
     "cell_type": "code",
     "checksum": "e7afbe95cb9c9427784215d41cae5407",
     "grade": false,
     "grade_id": "cell-c5327fd075ca8d88",
     "locked": true,
     "schema_version": 3,
     "solution": false
    }
   },
   "outputs": [
    {
     "name": "stdout",
     "output_type": "stream",
     "text": [
      "C = \n",
      " [[1 4 0]\n",
      " [3 2 5]\n",
      " [6 2 1]]\n",
      "I = \n",
      " [[1. 0. 0.]\n",
      " [0. 1. 0.]\n",
      " [0. 0. 1.]]\n",
      "D = C * I = \n",
      " [[1. 4. 0.]\n",
      " [3. 2. 5.]\n",
      " [6. 2. 1.]]\n",
      "\n",
      "\n",
      "second column of D = [4. 2. 2.]\n",
      "second row of D = [3. 2. 5.]\n",
      "\n",
      "\n",
      "now we have a matrix F = \n",
      " [[1 2]\n",
      " [3 4]\n",
      " [5 6]]\n",
      "\n",
      " the matrix F has 3 rows and 2 columns\n",
      "\n",
      "\n",
      "\n",
      "now we have a matrix G = \n",
      " [[1 2 3]\n",
      " [3 4 5]]\n",
      "\n",
      " the matrix G has 2 rows and 3 columns\n",
      "\n",
      "the product H=F*G is H = \n",
      " [[ 7 10 13]\n",
      " [15 22 29]\n",
      " [23 34 45]]\n",
      "\n",
      " the matrix H has 3 rows and 3 columns\n",
      "\n",
      "L = \n",
      " [[[ 0  1]\n",
      "  [ 2  3]]\n",
      "\n",
      " [[ 4  5]\n",
      "  [ 6  7]]\n",
      "\n",
      " [[ 9 10]\n",
      "  [11 12]]]\n"
     ]
    }
   ],
   "source": [
    "# create two 3*3 matrices C and I:\n",
    "C = np.array([[1,4,0],[3,2,5],[6,2,1]])\n",
    "I = np.eye(3)\n",
    "\n",
    "print(\"C = \\n\",C)\n",
    "print(\"I = \\n\",I)\n",
    "\n",
    "D, rows, cols = Matrix_multiplication(C,I)\n",
    "\n",
    "print(\"D = C * I = \\n\",D)\n",
    "print(\"\\n\") # create a line break \n",
    "\n",
    "\n",
    "# remember that indexing starts at 0 in Python ! \n",
    "\n",
    "secondcol = D[:,1]   # read second column of D into array `secondcol` \n",
    "secondrow = D[1,:]   # read second row of D into array `secondrow`\n",
    "\n",
    "print(\"second column of D =\", secondcol)\n",
    "print(\"second row of D =\", secondrow)\n",
    "print(\"\\n\") # create a line break \n",
    "\n",
    "# let us now determine the size of a matrix that \n",
    "# is obtained as the product of two other matrices F and G\n",
    "F = np.array([[1,2],[3,4],[5,6]])\n",
    "\n",
    "print(\"now we have a matrix F = \\n\", F)\n",
    "print(\"\\n the matrix F has\", F.shape[0], \"rows and\", F.shape[1], \"columns\\n\")\n",
    "print(\"\\n\") # create a line break \n",
    "\n",
    "G = np.array([[1, 2, 3], [3, 4, 5]])\n",
    "\n",
    "print(\"now we have a matrix G = \\n\", G)\n",
    "print(\"\\n the matrix G has\", G.shape[0], \"rows and\", G.shape[1], \"columns\\n\")\n",
    "\n",
    "# what will be the size of F*G ?\n",
    "H, rows, cols = Matrix_multiplication(F,G)\n",
    "\n",
    "print(\"the product H=F*G is H = \\n\", H)\n",
    "print(\"\\n the matrix H has\", rows, \"rows and\", cols, \"columns\\n\")\n",
    "\n",
    "# In the last step we want to take a look at how to build a 3-dimensional array\n",
    "# by using the np.array() method\n",
    "\n",
    "# you can also create a 3 dimensional array by using np.empty, np.zeros etc. \n",
    "# and specifying a third parameter e.g. np.zeros((2,3,4))\n",
    "\n",
    "L = np.array([[[0, 1],[2, 3]], [[4, 5],[6, 7]], [[9,10],[11,12]]]) #size 2,2,3\n",
    "\n",
    "print(\"L = \\n\", L) #you can see it as 3 matrices of size 2x2 each"
   ]
  },
  {
   "cell_type": "markdown",
   "metadata": {
    "deletable": false,
    "editable": false,
    "nbgrader": {
     "cell_type": "markdown",
     "checksum": "8e8d653698a072c3e2c1720deee425ef",
     "grade": false,
     "grade_id": "cell-f81c9233f9970fac",
     "locked": true,
     "schema_version": 3,
     "solution": false
    }
   },
   "source": [
    "<a id=\"Q2\"></a>\n",
    "## Dictionaries in Python\n",
    "\n",
    "The raw data used in ML methods are typically not directly available as numpy arrays (representing matrices). On the lowest level, data is nothing but a (very long) stream of bits. However, many applications involve data that can be conveniently represented by a **Python dictionary**. \n",
    "[Dictionaries](https://docs.python.org/3/tutorial/datastructures.html#dictionaries), also known as **associative arrays** are data structures that consist of a collection of key-value pairs. As we will see, Python dictionaries provide a convenient interface to data stored in files or online databases. "
   ]
  },
  {
   "cell_type": "markdown",
   "metadata": {
    "deletable": false,
    "editable": false,
    "nbgrader": {
     "cell_type": "markdown",
     "checksum": "aee206674a1b65dd083bfa64c5db87de",
     "grade": false,
     "grade_id": "cell-45ae794525903d36",
     "locked": true,
     "schema_version": 3,
     "solution": false
    }
   },
   "source": [
    "<a id='LoadDataset'></a>\n",
    "<div class=\" alert alert-info\">\n",
    "    <b>Demo.</b> Dictionaries. \n",
    "\n",
    "Below we will go through some simple use cases of dictionaries. This knowledge will be useful when working with datasets loaded using the Python library [scikit-learn](http://scikit-learn.github.io/stable) and/or read in from a file to a [pandas dataframe](https://pandas.pydata.org/pandas-docs/stable/reference/api/pandas.DataFrame.html).\n",
    "\n",
    "<div>"
   ]
  },
  {
   "cell_type": "code",
   "execution_count": 5,
   "metadata": {
    "deletable": false,
    "editable": false,
    "nbgrader": {
     "cell_type": "code",
     "checksum": "af5434e7718900fd630b2ef97e4664f1",
     "grade": false,
     "grade_id": "cell-a0abcbf3bb98b5e2",
     "locked": true,
     "schema_version": 3,
     "solution": false
    }
   },
   "outputs": [
    {
     "name": "stdout",
     "output_type": "stream",
     "text": [
      "The type of the variable C is: <class 'dict'>\n",
      "{'Finland': 'Helsinki', 'Sweden': 'Stockholm', 'Norway': 'Oslo'}\n",
      "C['Finland']: Helsinki\n",
      "C['Denmark']: Copenhagen\n",
      "{'Finland': 'Helsinki', 'Sweden': 'Stockholm', 'Norway': 'Oslo', 'Denmark': 'Copenhagen'}\n",
      "The population of Finland is  5500000  persons\n",
      "The number 3 is prime\n"
     ]
    }
   ],
   "source": [
    "# Lets define a simple dictionary consisting of three key-value pairs.\n",
    "# The keys are names of countries from Norhern Europe and the values \n",
    "# indicate the capital city for each country. \n",
    "\n",
    "C = {'Finland':'Helsinki',\n",
    "    'Sweden':'Stockholm',\n",
    "    'Norway':'Oslo'}\n",
    "\n",
    "print('The type of the variable C is:', type(C))  # print the type of the variacle \"C\"\n",
    "print(C) # print out the dictionary contents\n",
    "\n",
    "# Accessing Dictionary Values\n",
    "print(\"C['Finland']:\", C['Finland']) # prints out \"Helsinki\"\n",
    "\n",
    "# If you refer to a key that is not in the dictionary, i.e. print(C['Denmark']), Python raises an exception.\n",
    "\n",
    "# Adding an entry to an existing dictionary is simply a matter of assigning a new key and value:\n",
    "C['Denmark'] = 'Copenhagen'   # adds a dictionary entry with key \"Denmark\" and value \"Copenhagen\"\n",
    "\n",
    "print(\"C['Denmark']:\", C['Denmark'])\n",
    "print(C)\n",
    "# Remember, you can’t treat a dictionary like a list or numpy array, e.g. indices don't work.\n",
    "\n",
    "# Dictionaries can contain numerical and string values as keys and values:\n",
    "\n",
    "Population = {'Finland':5500000,\n",
    "                'Sweden':10000000,\n",
    "                'Norway':5250000}\n",
    "print(\"The population of Finland is \", Population['Finland'], \" persons\")\n",
    "\n",
    "Numbers = {3:'prime',\n",
    "            6:'not prime',\n",
    "            7:'prime'}\n",
    "print(\"The number 3 is\", Numbers[3])"
   ]
  },
  {
   "cell_type": "markdown",
   "metadata": {
    "deletable": false,
    "editable": false,
    "nbgrader": {
     "cell_type": "markdown",
     "checksum": "acec2fb9878be36c29cb03bcff016292",
     "grade": false,
     "grade_id": "cell-33f868f0b8195b85",
     "locked": true,
     "schema_version": 3,
     "solution": false
    }
   },
   "source": [
    "<a id='LoadDataset'></a>\n",
    "<div class=\" alert alert-info\">\n",
    "    <b>Demo.</b> Dictionary of Wine Data. \n",
    "\n",
    "The code snippet below demonstrates how to read in a toy dataset using a Python library `sklearn` and store it in a dictionary `wine`. This dataset contains information about several wine samples. Each wine sample is characterized by a set of features (which can be read out using `wine['data']`) and a wine category (which can be read out using `wine['target']`). \n",
    "\n",
    "<div>"
   ]
  },
  {
   "cell_type": "code",
   "execution_count": 6,
   "metadata": {
    "deletable": false,
    "editable": false,
    "nbgrader": {
     "cell_type": "code",
     "checksum": "e6a403243e6cf083d344f88e41b100e2",
     "grade": false,
     "grade_id": "cell-636e7bd28fd881b3",
     "locked": true,
     "schema_version": 3,
     "solution": false
    }
   },
   "outputs": [
    {
     "name": "stdout",
     "output_type": "stream",
     "text": [
      "data:\t\t (178, 13) \n",
      "labels shape:\t (178,)\n",
      "------------------------------------------------\n",
      "['alcohol', 'malic_acid', 'ash', 'alcalinity_of_ash', 'magnesium', 'total_phenols', 'flavanoids', 'nonflavanoid_phenols', 'proanthocyanins', 'color_intensity', 'hue', 'od280/od315_of_diluted_wines', 'proline']\n"
     ]
    }
   ],
   "source": [
    "# Dictionaries can contain vectors/matrices as values\n",
    "\n",
    "# Loading wine dataset\n",
    "from sklearn import datasets\n",
    "wine = datasets.load_wine() # loading the wine dataset from sklearn datasets\n",
    "\n",
    "# keys are strings and values are vectors/matrices\n",
    "X = wine['data']   # read in the value for the key \"data\"\n",
    "y = wine['target'] # read in the value for the key \"target\"\n",
    "\n",
    "# print out the shape of the vectors/matrices\n",
    "print('data:\\t\\t', X.shape, '\\nlabels shape:\\t', y.shape)\n",
    "print('------------------------------------------------')\n",
    "# print the feature names in the dataset, key is a string, value is an array of string\n",
    "print(wine['feature_names'])"
   ]
  },
  {
   "cell_type": "markdown",
   "metadata": {
    "deletable": false,
    "editable": false,
    "nbgrader": {
     "cell_type": "markdown",
     "checksum": "faef21af4d95a4362b14b2e820a72498",
     "grade": false,
     "grade_id": "cell-88ce920477c635cd",
     "locked": true,
     "schema_version": 3,
     "solution": false
    }
   },
   "source": [
    "## Measuring Execution Time\n",
    "\n",
    "Sometimes it is useful to know how much time your code takes to execute. This is especially useful when you have very large datasets (\"Big Data\") and you want to evaluate if you can afford running your ML method. Indeed, nowadays you can rent computational infrastructure at an hourly rate [click here](https://aws.amazon.com/pricing/)). Thus, the faster your ML method runs the less you have to pay! "
   ]
  },
  {
   "cell_type": "markdown",
   "metadata": {
    "deletable": false,
    "editable": false,
    "nbgrader": {
     "cell_type": "markdown",
     "checksum": "7156ed2bb9851444cf037c8d5fd42ff3",
     "grade": false,
     "grade_id": "cell-0dd10dd02b85bcbd",
     "locked": true,
     "schema_version": 3,
     "solution": false
    }
   },
   "source": [
    "<a id='MeasureTime'></a>\n",
    "<div class=\" alert alert-info\">\n",
    "    <b>Demo.</b> Measuring Computational Complexity. \n",
    "    \n",
    "    \n",
    "Many ML methods have to cope with limited computational resources such as limited time for carrying out computations. It is therefore important to have a good understanding of the computational complexity of ML methods. One of the most straightforward approaches to measuring the computational complexity of ML methods is to measure their execution time. Below we will go through a simple example on how to measure the execution time of a code block. \n",
    "\n",
    "<div>"
   ]
  },
  {
   "cell_type": "code",
   "execution_count": 7,
   "metadata": {
    "deletable": false,
    "editable": false,
    "nbgrader": {
     "cell_type": "code",
     "checksum": "3b7a56d1233c0bea747489ba08647b72",
     "grade": false,
     "grade_id": "cell-022448ac92fb0c2d",
     "locked": true,
     "schema_version": 3,
     "solution": false
    }
   },
   "outputs": [
    {
     "name": "stdout",
     "output_type": "stream",
     "text": [
      "x: 10000000\n",
      "--- 1598.9866256713867 milliseconds ---\n"
     ]
    }
   ],
   "source": [
    "import time\n",
    "\n",
    "\n",
    "# lets measure the time it takes us to loop through 10 000 000 values and print a value\n",
    "start_time = time.time()\n",
    "\n",
    "x = 0\n",
    "for i in range(10000000):\n",
    "    x += 1\n",
    "print('x:', x)\n",
    "\n",
    "end_time = (time.time() - start_time)*1000\n",
    "\n",
    "print(\"--- %s milliseconds ---\" % (end_time))"
   ]
  },
  {
   "cell_type": "markdown",
   "metadata": {
    "deletable": false,
    "editable": false,
    "nbgrader": {
     "cell_type": "markdown",
     "checksum": "9b68df4f69a91c3241073f0fd67a8da1",
     "grade": false,
     "grade_id": "cell-569ba7efbf116b67",
     "locked": true,
     "schema_version": 3,
     "solution": false
    }
   },
   "source": [
    "<a id=\"Q3\"></a>\n",
    "\n",
    "## Let's Grab Data!\n",
    "\n",
    "One of the key components of any machine learning problem (and method) is data. There are many different sources of data such as files stored on a hard-disk or internet databases such as [Wikidata](https://www.wikidata.org/wiki/Wikidata:Main_Page). Another source of data is provided in ready-made Python functions which load specific toy datasets https://scikit-learn.org/stable/datasets/index.html. \n"
   ]
  },
  {
   "cell_type": "markdown",
   "metadata": {
    "deletable": false,
    "editable": false,
    "nbgrader": {
     "cell_type": "markdown",
     "checksum": "7423e4d4cd207da846389ff2daa09c06",
     "grade": false,
     "grade_id": "cell-590ece9cacb4e693",
     "locked": true,
     "schema_version": 3,
     "solution": false
    }
   },
   "source": [
    "<a id='LoadDataset'></a>\n",
    "<div class=\" alert alert-warning\">\n",
    "    <b>Student Task.</b> Load Data from File. \n",
    "\n",
    "Implement a Python function `X, m, n = LoadData(filename)` which reads in the filename of a CSV file as input parameter. The function should return three ouput parameters: \n",
    "* a numpy array `X` representing the matrix $\\mathbf{X} =\\big(\\mathbf{x}^{(1)},\\ldots,\\mathbf{x}^{(m)}\\big)^{T}$ whose rows are the feature vectors $\\mathbf{x}^{(i)} \\in \\mathbb{R}^{n}$ which are stored in the rows of the CSV file, \n",
    "* the sample size (total number of rows in the csv file) $m$ \n",
    "* and the number $n$ of features used to characterize each data point. \n",
    "\n",
    "</div>"
   ]
  },
  {
   "cell_type": "code",
   "execution_count": 8,
   "metadata": {
    "deletable": false,
    "nbgrader": {
     "cell_type": "code",
     "checksum": "47b4a52b23e0269d68bb8bd9d7e54475",
     "grade": false,
     "grade_id": "cell-40993ff9d63197d9",
     "locked": false,
     "schema_version": 3,
     "solution": true
    }
   },
   "outputs": [],
   "source": [
    "import pandas as pd             # use shorthand \"pd\" for lib \"pandas\" which provides methods for \n",
    "                                # loading and saving data from and to files \n",
    "\n",
    "def LoadData(filename):\n",
    "    \"\"\"\n",
    "    Load the dataframe reading the file with the filename given as a parameter.\n",
    "    Print the sample size m and the feature length n.\n",
    "\n",
    "    :input: String path to the file\n",
    "\n",
    "    :return: numpy array of shape=(m, n), the sample size m and the feature length n    \n",
    "    \"\"\"\n",
    "\n",
    "    df = pd.read_csv(filename)\n",
    "    X = df.values # convert the data frame to numpy array\n",
    "\n",
    "    n = X.shape[1]\n",
    "    m = X.shape[0]\n",
    "    #print('sample size m=',...)\n",
    "    #print('feature length n=',...)\n",
    "    # YOUR CODE HERE\n",
    "    #raise NotImplementedError()\n",
    "\n",
    "    return X, m, n"
   ]
  },
  {
   "cell_type": "markdown",
   "metadata": {
    "deletable": false,
    "editable": false,
    "nbgrader": {
     "cell_type": "markdown",
     "checksum": "450757b657884e7549639f4f005560ba",
     "grade": false,
     "grade_id": "cell-65c2ae86aa433a38",
     "locked": true,
     "schema_version": 3,
     "solution": false
    }
   },
   "source": [
    "The code snippet below executes the function `LoadData` and performs some tests. "
   ]
  },
  {
   "cell_type": "code",
   "execution_count": 9,
   "metadata": {
    "deletable": false,
    "editable": false,
    "nbgrader": {
     "cell_type": "code",
     "checksum": "72132df05d12aef4b32fe2d816ffd16a",
     "grade": true,
     "grade_id": "cell-067eea5beb6c85a1",
     "locked": true,
     "points": 1,
     "schema_version": 3,
     "solution": false
    }
   },
   "outputs": [
    {
     "name": "stdout",
     "output_type": "stream",
     "text": [
      "Sanity checks passed! Some hidden tests may still fail.\n"
     ]
    }
   ],
   "source": [
    "X, m, n = LoadData(\"Data.csv\")\n",
    "assert X.shape == (600,2), f'Expected dataframe to be of different size than {df.shape}'\n",
    "\n",
    "\n",
    "print(\"Sanity checks passed! Some hidden tests may still fail.\")\n"
   ]
  },
  {
   "cell_type": "markdown",
   "metadata": {
    "deletable": false,
    "editable": false,
    "nbgrader": {
     "cell_type": "markdown",
     "checksum": "1f0f9919b7d3d58b16dccbf11f15ccd4",
     "grade": false,
     "grade_id": "cell-96f591df3cdf9a91",
     "locked": true,
     "schema_version": 3,
     "solution": false
    }
   },
   "source": [
    "<a id='LoadDataset'></a>\n",
    "<div class=\" alert alert-warning\">\n",
    "    <b>Student Task.</b> Loading the Linnerud Dataset. \n",
    " \n",
    "\n",
    "- Load the [Linnerud](https://scikit-learn.org/stable/modules/generated/sklearn.datasets.load_linnerud.html#sklearn.datasets.load_linnerud) dataset using the command `linnerud = datasets.load_linnerud()`.\n",
    "- This dataset consists of $m=20$ datapoints, each datapoint representing an athlete doing some exercise. \n",
    "- Each data point is characterized by three features: weight $x_{1}$, waist $x_{2}$ and pulse $x_{3}$ of the athlete. \n",
    "- Each data point is characterized by three labels: chins $y_{1}$, situps $y_{2}$ and jumps $y_{3}$.\n",
    "- store features in a numpy array `X` of shape (20,3) by using the command `X = linnerud['data']`\n",
    "- store labels in a numpy array `Y` of shape (20,3) using the command `Y = linnerud['target']`\n",
    "   </div>"
   ]
  },
  {
   "cell_type": "code",
   "execution_count": 10,
   "metadata": {
    "deletable": false,
    "nbgrader": {
     "cell_type": "code",
     "checksum": "5f811c9b629cd206d35077fbe1766793",
     "grade": false,
     "grade_id": "cell-7fa5ef52625cf5cb",
     "locked": false,
     "schema_version": 3,
     "solution": true
    }
   },
   "outputs": [
    {
     "name": "stdout",
     "output_type": "stream",
     "text": [
      "Shape of X matrix: (20, 3)\n",
      "Exercise - 20 observations on 3 exercise variables: Chins, Situps and Jumps.\n",
      "\n",
      "\n",
      "shape of matrix Y: (20, 3)\n",
      "20 data points, each containing values of 3 physiological variables: Weight, Waist and Pulse.\n"
     ]
    }
   ],
   "source": [
    "# Load the dataset and store data and labels in variables\n",
    "from sklearn import datasets\n",
    "\n",
    "linnerud = datasets.load_linnerud()\n",
    "# YOUR CODE HERE\n",
    "#raise NotImplementedError()\n",
    "\n",
    "X = linnerud['data']\n",
    "# YOUR CODE HERE\n",
    "#raise NotImplementedError()\n",
    "\n",
    "print('Shape of X matrix:', X.shape)\n",
    "print(\"Exercise - 20 observations on 3 exercise variables: Chins, Situps and Jumps.\")\n",
    "print('\\n')\n",
    "\n",
    "# Target also contains three variables, Weight, Waist and Pulse. Here we will use only the weight variable.\n",
    "Y = linnerud['target']\n",
    "# YOUR CODE HERE\n",
    "#raise NotImplementedError()\n",
    "print('shape of matrix Y:', Y.shape)\n",
    "print(\"20 data points, each containing values of 3 physiological variables: Weight, Waist and Pulse.\")"
   ]
  },
  {
   "cell_type": "code",
   "execution_count": 11,
   "metadata": {
    "deletable": false,
    "editable": false,
    "nbgrader": {
     "cell_type": "code",
     "checksum": "1c4c03681e5cac429462b332aebca910",
     "grade": true,
     "grade_id": "cell-311182ce6b0ea653",
     "locked": true,
     "points": 1,
     "schema_version": 3,
     "solution": false
    }
   },
   "outputs": [
    {
     "name": "stdout",
     "output_type": "stream",
     "text": [
      "Sanity checks passed!\n"
     ]
    }
   ],
   "source": [
    "assert Y.shape == (20, 3), f'Expected matrix to be of different size than {X.shape}'\n",
    "assert X.shape == (20, 3), f'Expected matrix to be of different size than {Y.shape}'\n",
    "assert X[0][0] == 5.0, 'Expected value of X[0][0] to be equal to 5'\n",
    "assert X[3][2] == 37.0, 'Expected value of X[0][0] to be equal to 37'\n",
    "assert Y[0][0] == 191, 'Expected value of X[0][0] to be equal to 191'\n",
    "assert Y[3][2] == 62.0, 'Expected value of X[0][0] to be equal to 62'\n",
    "\n",
    "print(\"Sanity checks passed!\")"
   ]
  },
  {
   "cell_type": "markdown",
   "metadata": {
    "deletable": false,
    "editable": false,
    "nbgrader": {
     "cell_type": "markdown",
     "checksum": "791f9b37a6208c1329db762dd553fae4",
     "grade": false,
     "grade_id": "cell-3821f4945f468cc4",
     "locked": true,
     "schema_version": 3,
     "solution": false
    }
   },
   "source": [
    "<a id='wikidata'></a>\n",
    "<div class=\" alert alert-info\">\n",
    "    <b>Demo.</b> Load Data from https://www.wikidata.org/. \n",
    " \n",
    "\n",
    "The code snippet below shows how to query data from https://www.wikidata.org/ in order to obtain current statistics about countries belonging to the European Union (EU). Beside reading in data from wikidata, the code below also shows how to fill in (impute) missing data (fields having a \"NaN\"). In order to fill missing data fields, different methods can be used. The basic idea behind imputation methods is to interpolate between similar data points. The code below implements a simple interpolation by using the mean of all known values of the same property (or feature).  \n",
    "\n",
    "Hint: \n",
    "\n",
    "- You can find more information on how to query wikidata under [this link.](https://www.wikidata.org/wiki/Wikidata:SPARQL_query_service/A_gentle_introduction_to_the_Wikidata_Query_Service)\n",
    "- You can find more information on coping with missing data using \"imputation methods\" under [this link.](http://www.paultwin.com/wp-content/uploads/Lodder_1140873_Paper_Imputation.pdf)\n",
    "- Python provides several methods for data imputation ([see here](https://pandas.pydata.org/pandas-docs/stable/reference/api/pandas.DataFrame.fillna.html))\n",
    "<p>If the wikidata demo fails to load, please try and rerun the cell a few times until it works. There seems to be some trouble lately with wikidata, such that it doesn't return the data every time.</p>\n",
    "</div>"
   ]
  },
  {
   "cell_type": "code",
   "execution_count": 12,
   "metadata": {
    "deletable": false,
    "editable": false,
    "nbgrader": {
     "cell_type": "code",
     "checksum": "7e668c277f3ad84f5917beda4b80b9ad",
     "grade": false,
     "grade_id": "cell-8088d3ac466a5ece",
     "locked": true,
     "schema_version": 3,
     "solution": false
    }
   },
   "outputs": [
    {
     "name": "stdout",
     "output_type": "stream",
     "text": [
      "raw data\n",
      "========\n",
      "\n",
      "                            population           area  medianIncome     age  \\\n",
      "country                                                                       \n",
      "France                      66628000.0  643801.000000       30364.0     NaN   \n",
      "Germany                     82979100.0  357408.740000       33333.0     NaN   \n",
      "Ireland                      4761865.0   70273.000000       25969.0    82.0   \n",
      "Hungary                      9971727.0   93011.400000           NaN  1019.0   \n",
      "Spain                       46528024.0  505990.000000       21959.0   540.0   \n",
      "Belgium                     11150516.0   30528.000000       31112.0   189.0   \n",
      "Luxembourg                    543360.0    2586.400000       52493.0   204.0   \n",
      "Finland                      5501043.0  338424.380000       34615.0   102.0   \n",
      "Sweden                      10161797.0  528861.060000       50514.0  1319.0   \n",
      "Sweden                      10000000.0  528861.060000       50514.0  1319.0   \n",
      "Sweden                      10161797.0  450295.000000       50514.0  1319.0   \n",
      "Sweden                      10000000.0  450295.000000       50514.0  1319.0   \n",
      "Sweden                      10161797.0  407283.590000       50514.0  1319.0   \n",
      "Sweden                      10000000.0  407283.590000       50514.0  1319.0   \n",
      "Sweden                      10161797.0  122577.500000       50514.0  1319.0   \n",
      "Sweden                      10000000.0  122577.500000       50514.0  1319.0   \n",
      "Denmark                      5707251.0   42925.460000       44360.0  1219.0   \n",
      "Poland                      38454576.0  312683.000000           NaN  1053.0   \n",
      "Poland                      38454576.0  312683.000000           NaN   101.0   \n",
      "Lithuania                    2790842.0   65300.000000           NaN   101.0   \n",
      "Italy                       60599936.0  301338.000000       20085.0    73.0   \n",
      "Austria                      8809212.0   83878.990000       34911.0   101.0   \n",
      "Greece                      10760421.0  131957.000000           NaN   198.0   \n",
      "Portugal                    10600000.0   92212.000000           NaN   876.0   \n",
      "Netherlands                 17181084.0   41543.000000       38584.0    65.0   \n",
      "United Kingdom              65102385.0  242495.406794       31617.0    92.0   \n",
      "Estonia                      1324820.0   45339.000000           NaN   101.0   \n",
      "Latvia                       1953000.0   64589.000000           NaN   101.0   \n",
      "Czech Republic              10649800.0   78866.000000       27320.0    26.0   \n",
      "Slovakia                     5439892.0   49035.000000           NaN    26.0   \n",
      "Slovenia                     2066880.0   20273.000000       25085.0    28.0   \n",
      "Romania                     19586539.0  238397.000000           NaN   160.0   \n",
      "Bulgaria                     7265115.0  110993.600000           NaN    29.0   \n",
      "Croatia                      4105493.0   56594.000000           NaN    28.0   \n",
      "Republic of Cyprus           1141166.0    9242.450000           NaN    59.0   \n",
      "Malta                         423374.0     316.000000           NaN    55.0   \n",
      "Kingdom of the Netherlands  17100715.0   42201.000000           NaN   204.0   \n",
      "\n",
      "                              nominalGDP  \n",
      "country                                   \n",
      "France                      2.582501e+12  \n",
      "Germany                     3.677439e+12  \n",
      "Ireland                     3.337308e+11  \n",
      "Hungary                     1.391350e+11  \n",
      "Spain                       1.311320e+12  \n",
      "Belgium                     4.926813e+11  \n",
      "Luxembourg                  6.240446e+10  \n",
      "Finland                     2.518849e+11  \n",
      "Sweden                      5.380405e+11  \n",
      "Sweden                      5.380405e+11  \n",
      "Sweden                      5.380405e+11  \n",
      "Sweden                      5.380405e+11  \n",
      "Sweden                      5.380405e+11  \n",
      "Sweden                      5.380405e+11  \n",
      "Sweden                      5.380405e+11  \n",
      "Sweden                      5.380405e+11  \n",
      "Denmark                     3.248720e+11  \n",
      "Poland                      5.245096e+11  \n",
      "Poland                      5.245096e+11  \n",
      "Lithuania                   4.716830e+10  \n",
      "Italy                       1.934798e+12  \n",
      "Austria                     4.165957e+11  \n",
      "Greece                      2.002883e+11  \n",
      "Portugal                    2.175711e+11  \n",
      "Netherlands                 8.262003e+11  \n",
      "United Kingdom              2.622434e+12  \n",
      "Estonia                     3.031200e+10  \n",
      "Latvia                      3.026445e+10  \n",
      "Czech Republic              2.157255e+11  \n",
      "Slovakia                    9.576903e+10  \n",
      "Slovenia                    4.876966e+10  \n",
      "Romania                     1.866906e+11  \n",
      "Bulgaria                    5.683152e+10  \n",
      "Croatia                     5.484918e+10  \n",
      "Republic of Cyprus          2.165179e+10  \n",
      "Malta                       1.253775e+10  \n",
      "Kingdom of the Netherlands           NaN  \n",
      "\n",
      "\n",
      "imputed data\n",
      "============\n",
      "\n",
      "                            population           area  medianIncome  \\\n",
      "country                                                               \n",
      "France                      66628000.0  643801.000000  30364.000000   \n",
      "Germany                     82979100.0  357408.740000  33333.000000   \n",
      "Ireland                      4761865.0   70273.000000  25969.000000   \n",
      "Hungary                      9971727.0   93011.400000  38905.409091   \n",
      "Spain                       46528024.0  505990.000000  21959.000000   \n",
      "Belgium                     11150516.0   30528.000000  31112.000000   \n",
      "Luxembourg                    543360.0    2586.400000  52493.000000   \n",
      "Finland                      5501043.0  338424.380000  34615.000000   \n",
      "Sweden                      10161797.0  528861.060000  50514.000000   \n",
      "Sweden                      10000000.0  528861.060000  50514.000000   \n",
      "Sweden                      10161797.0  450295.000000  50514.000000   \n",
      "Sweden                      10000000.0  450295.000000  50514.000000   \n",
      "Sweden                      10161797.0  407283.590000  50514.000000   \n",
      "Sweden                      10000000.0  407283.590000  50514.000000   \n",
      "Sweden                      10161797.0  122577.500000  50514.000000   \n",
      "Sweden                      10000000.0  122577.500000  50514.000000   \n",
      "Denmark                      5707251.0   42925.460000  44360.000000   \n",
      "Poland                      38454576.0  312683.000000  38905.409091   \n",
      "Poland                      38454576.0  312683.000000  38905.409091   \n",
      "Lithuania                    2790842.0   65300.000000  38905.409091   \n",
      "Italy                       60599936.0  301338.000000  20085.000000   \n",
      "Austria                      8809212.0   83878.990000  34911.000000   \n",
      "Greece                      10760421.0  131957.000000  38905.409091   \n",
      "Portugal                    10600000.0   92212.000000  38905.409091   \n",
      "Netherlands                 17181084.0   41543.000000  38584.000000   \n",
      "United Kingdom              65102385.0  242495.406794  31617.000000   \n",
      "Estonia                      1324820.0   45339.000000  38905.409091   \n",
      "Latvia                       1953000.0   64589.000000  38905.409091   \n",
      "Czech Republic              10649800.0   78866.000000  27320.000000   \n",
      "Slovakia                     5439892.0   49035.000000  38905.409091   \n",
      "Slovenia                     2066880.0   20273.000000  25085.000000   \n",
      "Romania                     19586539.0  238397.000000  38905.409091   \n",
      "Bulgaria                     7265115.0  110993.600000  38905.409091   \n",
      "Croatia                      4105493.0   56594.000000  38905.409091   \n",
      "Republic of Cyprus           1141166.0    9242.450000  38905.409091   \n",
      "Malta                         423374.0     316.000000  38905.409091   \n",
      "Kingdom of the Netherlands  17100715.0   42201.000000  38905.409091   \n",
      "\n",
      "                                    age    nominalGDP  \n",
      "country                                                \n",
      "France                       496.685714  2.582501e+12  \n",
      "Germany                      496.685714  3.677439e+12  \n",
      "Ireland                       82.000000  3.337308e+11  \n",
      "Hungary                     1019.000000  1.391350e+11  \n",
      "Spain                        540.000000  1.311320e+12  \n",
      "Belgium                      189.000000  4.926813e+11  \n",
      "Luxembourg                   204.000000  6.240446e+10  \n",
      "Finland                      102.000000  2.518849e+11  \n",
      "Sweden                      1319.000000  5.380405e+11  \n",
      "Sweden                      1319.000000  5.380405e+11  \n",
      "Sweden                      1319.000000  5.380405e+11  \n",
      "Sweden                      1319.000000  5.380405e+11  \n",
      "Sweden                      1319.000000  5.380405e+11  \n",
      "Sweden                      1319.000000  5.380405e+11  \n",
      "Sweden                      1319.000000  5.380405e+11  \n",
      "Sweden                      1319.000000  5.380405e+11  \n",
      "Denmark                     1219.000000  3.248720e+11  \n",
      "Poland                      1053.000000  5.245096e+11  \n",
      "Poland                       101.000000  5.245096e+11  \n",
      "Lithuania                    101.000000  4.716830e+10  \n",
      "Italy                         73.000000  1.934798e+12  \n",
      "Austria                      101.000000  4.165957e+11  \n",
      "Greece                       198.000000  2.002883e+11  \n",
      "Portugal                     876.000000  2.175711e+11  \n",
      "Netherlands                   65.000000  8.262003e+11  \n",
      "United Kingdom                92.000000  2.622434e+12  \n",
      "Estonia                      101.000000  3.031200e+10  \n",
      "Latvia                       101.000000  3.026445e+10  \n",
      "Czech Republic                26.000000  2.157255e+11  \n",
      "Slovakia                      26.000000  9.576903e+10  \n",
      "Slovenia                      28.000000  4.876966e+10  \n",
      "Romania                      160.000000  1.866906e+11  \n",
      "Bulgaria                      29.000000  5.683152e+10  \n",
      "Croatia                       28.000000  5.484918e+10  \n",
      "Republic of Cyprus            59.000000  2.165179e+10  \n",
      "Malta                         55.000000  1.253775e+10  \n",
      "Kingdom of the Netherlands   204.000000  5.985491e+11  \n"
     ]
    }
   ],
   "source": [
    "import requests\n",
    "import pandas as pd\n",
    "from collections import OrderedDict\n",
    "import matplotlib.pyplot as plt\n",
    "\n",
    "# E.g. read in key figures (gdp, average age, population, ...) of all countries.\n",
    "# only EU countries: ?country wdt:P463 wd:Q458\n",
    "\n",
    "url = 'https://query.wikidata.org/sparql'\n",
    "query = \"\"\"\n",
    "SELECT\n",
    "  ?countryLabel ?population ?area ?medianIncome ?age ?nominalGDP\n",
    "WHERE {\n",
    "  ?country wdt:P463 wd:Q458\n",
    "  OPTIONAL { ?country wdt:P1082 ?population }\n",
    "  OPTIONAL { ?country wdt:P2046 ?area }\n",
    "  OPTIONAL { ?country wdt:P3529 ?medianIncome }\n",
    "  OPTIONAL { ?country wdt:P571 ?inception.\n",
    "    BIND(year(now()) - year(?inception) AS ?age)\n",
    "  }\n",
    "  OPTIONAL { ?country wdt:P2131 ?nominalGDP}\n",
    "  SERVICE wikibase:label { bd:serviceParam wikibase:language \"en\". }\n",
    "}\n",
    "\"\"\"\n",
    "\n",
    "r = requests.get(url, params={'format': 'json', 'query': query}) #execute the query\n",
    "data = r.json()\n",
    "\n",
    "countries = []\n",
    "#cleans the data because some values are missing\n",
    "for item in data['results']['bindings']:\n",
    "    countries.append(OrderedDict({'country': item['countryLabel']['value'],\n",
    "'population': item['population']['value']\n",
    "    if 'population' in item else None,\n",
    "'area': item['area']['value']\n",
    "    if 'area' in item else None,\n",
    "'medianIncome': item['medianIncome']['value']\n",
    "    if 'medianIncome' in item else None,\n",
    "'age': item['age']['value']\n",
    "    if 'age' in item else None,\n",
    "'nominalGDP': item['nominalGDP']['value']\n",
    "    if 'nominalGDP' in item else None}))\n",
    "\n",
    "df_wikidata=pd.DataFrame(countries)\n",
    "df_wikidata.set_index('country', inplace=True)\n",
    "df_wikidata=df_wikidata.astype({'population': float, 'area': float, 'medianIncome': float, 'age': float, 'nominalGDP': float})\n",
    "df_wikidata=df_wikidata.astype({'area': float, 'medianIncome': float, 'age': float, 'nominalGDP': float})\n",
    "print(\"raw data\")\n",
    "print(\"========\\n\")\n",
    "print(df_wikidata)\n",
    "\n",
    "df_wikidata.fillna(df_wikidata.mean(), inplace=True)   # replace missing data \"Nan\" with means \n",
    "data_wikidata = df_wikidata.values[:,0:2]              # needed for Task5 only \n",
    "\n",
    "print(\"\\n\\nimputed data\")\n",
    "print(\"============\\n\")\n",
    "\n",
    "print(df_wikidata)"
   ]
  },
  {
   "cell_type": "markdown",
   "metadata": {
    "deletable": false,
    "editable": false,
    "nbgrader": {
     "cell_type": "markdown",
     "checksum": "ff09b7f44932ed3786500198a4ded762",
     "grade": false,
     "grade_id": "Plotting_text",
     "locked": true,
     "schema_version": 3,
     "solution": false
    }
   },
   "source": [
    "<a id=\"Q4\"></a>\n",
    "## Data Visualization - A Picture is Worth A Thousand Words \n",
    "\n",
    "We now study how to use the Python library (or package) `matplotlib` (https://matplotlib.org/index.html) to plot data.\n",
    "\n",
    "Hint: \n",
    "- You can find useful tutorials for the `matplotlib` package under [this link](https://matplotlib.org/3.0.2/tutorials/index.html#introductory)"
   ]
  },
  {
   "cell_type": "markdown",
   "metadata": {
    "deletable": false,
    "editable": false,
    "nbgrader": {
     "cell_type": "markdown",
     "checksum": "6f68031fadd17b026762e0b56af7f96f",
     "grade": false,
     "grade_id": "cell-e946e1102ef7b279",
     "locked": true,
     "schema_version": 3,
     "solution": false
    }
   },
   "source": [
    "\n",
    "<a id='Scatterplots'></a>\n",
    "\n",
    "<div class=\" alert alert-info\">\n",
    " \n",
    " <b>Demo.</b> Scatterplots. \n",
    " \n",
    " \n",
    "The following code snippet implements the function `axes=ScatterPlots()` that returns an axes object which represents a figure containing two scatterplots: \n",
    "\n",
    "- one scatter plot depicting the feature vectors stored in \"Data.csv\"\n",
    "\n",
    "- one scatter plot depicting the feature vectors stored in \"Data.csv\" but divided into 3 subsets corresponding to the first 200, the second 200, and the last 200 rows in \"Data.csv\". This second scatter plot uses different colors for the (feature vectors from) different subsets.\n",
    "\n",
    "</div>"
   ]
  },
  {
   "cell_type": "code",
   "execution_count": 13,
   "metadata": {
    "deletable": false,
    "editable": false,
    "nbgrader": {
     "cell_type": "code",
     "checksum": "671992c0312f58084b77f3723d8f47ff",
     "grade": false,
     "grade_id": "cell-8741c3b938700dfa",
     "locked": true,
     "schema_version": 3,
     "solution": false
    }
   },
   "outputs": [],
   "source": [
    "def ScatterPlots():\n",
    "    \"\"\"\n",
    "    Plot the scatterplot of all the data, then plot the scatterplot of the 3 subsets,\n",
    "    each one with a different color\n",
    "\n",
    "    return: axes object used for testing, containing the 2 scatterplots.    \n",
    "    \"\"\"\n",
    "\n",
    "    fig, axes = plt.subplots(1, 2, figsize=(15, 5))\n",
    "    data, _, _, = LoadData(\"Data.csv\")  # load data from csv file\n",
    "\n",
    "    colors = ['r', 'g', 'b']\n",
    "\n",
    "    axes[0].scatter(data[:,0],data[:,1], label='All data')\n",
    "    axes[0].legend()\n",
    "    axes[1].scatter(data[0:200,0],data[0:200,1], c=colors[0], label='first 200 data points')\n",
    "    axes[1].scatter(data[200:400,0],data[200:400,1], c=colors[1], label='second 200 data points')\n",
    "    axes[1].scatter(data[400:600,0],data[400:600,1], c=colors[2], label='third 200 data points')\n",
    "    axes[1].legend()\n",
    "\n",
    "    return axes"
   ]
  },
  {
   "cell_type": "markdown",
   "metadata": {
    "deletable": false,
    "editable": false,
    "nbgrader": {
     "cell_type": "markdown",
     "checksum": "b829b7ff8ecb0f3ec8615dc3a836bf95",
     "grade": false,
     "grade_id": "cell-3c724d7951a606bd",
     "locked": true,
     "schema_version": 3,
     "solution": false
    }
   },
   "source": [
    "Let us now try out the function. "
   ]
  },
  {
   "cell_type": "code",
   "execution_count": 14,
   "metadata": {
    "deletable": false,
    "editable": false,
    "nbgrader": {
     "cell_type": "code",
     "checksum": "96259cd141e61fb74735641c5975fa31",
     "grade": false,
     "grade_id": "cell-0132950964abbce3",
     "locked": true,
     "schema_version": 3,
     "solution": false
    }
   },
   "outputs": [
    {
     "data": {
      "image/png": "[encoded data removed]",
      "text/plain": [
       "<Figure size 1080x360 with 2 Axes>"
      ]
     },
     "metadata": {
      "needs_background": "light"
     },
     "output_type": "display_data"
    }
   ],
   "source": [
    "axes = ScatterPlots()\n",
    "plt.show()"
   ]
  },
  {
   "cell_type": "markdown",
   "metadata": {
    "deletable": false,
    "editable": false,
    "nbgrader": {
     "cell_type": "markdown",
     "checksum": "59b89c0c6df265cfa31ba1eb16f160ac",
     "grade": false,
     "grade_id": "cell-5aeb668ba80be008",
     "locked": true,
     "schema_version": 3,
     "solution": false
    }
   },
   "source": [
    "<a id='PlotLinnerud'></a>\n",
    "<div class=\" alert alert-warning\">\n",
    "    <b>Student Task.</b> Plot the Linnerud data. \n",
    "\n",
    "Create a scatterplot of the `linnerud` dataset. In particular, each data point in the dataset should be depicted as a dot in a diagram whose horizontal represents the body weight and vertical axis represents the number of chin-ups. \n",
    " </div>"
   ]
  },
  {
   "cell_type": "code",
   "execution_count": 15,
   "metadata": {
    "deletable": false,
    "editable": false,
    "nbgrader": {
     "cell_type": "code",
     "checksum": "8641f38597b00c8f6f5098661b0ff95f",
     "grade": false,
     "grade_id": "cell-a919276228728abd",
     "locked": true,
     "schema_version": 3,
     "solution": false
    }
   },
   "outputs": [
    {
     "name": "stdout",
     "output_type": "stream",
     "text": [
      "(20, 1)\n",
      "(20, 1)\n"
     ]
    }
   ],
   "source": [
    "# lets use the dataset that was loaded in previous exercise\n",
    "\n",
    "# lets use only 1 variable from each dataset\n",
    "x = Y[:,0] # we take all observations for Weight (in Lbs) (.T command is used for transposing a numpy array)\n",
    "y = X[:,0] # take all observations for Chins, save to lowercase y\n",
    "x = x*0.453 # convert Lbs to Kg\n",
    "\n",
    "x = x.reshape(-1, 1) # reshape from shape (20,) to (20, 1)\n",
    "y = y.reshape(-1, 1) # reshape from shape (20,) to (20, 1)\n",
    "\n",
    "print(x.shape)\n",
    "print(y.shape)"
   ]
  },
  {
   "cell_type": "code",
   "execution_count": 16,
   "metadata": {
    "deletable": false,
    "nbgrader": {
     "cell_type": "code",
     "checksum": "a89d921036398a3f76a18efa5d32307a",
     "grade": false,
     "grade_id": "cell-23d9171c16eb5278",
     "locked": false,
     "schema_version": 3,
     "solution": true
    }
   },
   "outputs": [
    {
     "data": {
      "image/png": "[encoded data removed]",
      "text/plain": [
       "<Figure size 576x360 with 1 Axes>"
      ]
     },
     "metadata": {
      "needs_background": "light"
     },
     "output_type": "display_data"
    }
   ],
   "source": [
    "fig, axes = plt.subplots(1,figsize=(8,5))\n",
    "axes.scatter(x,y)\n",
    "\n",
    "# YOUR CODE HERE\n",
    "#raise NotImplementedError()\n",
    "\n",
    "axes.set_title('body weight vs. number of chinups of an athlete')\n",
    "axes.set_xlabel('x=body weight (kg)')\n",
    "axes.set_ylabel('y=number of chinups')\n",
    "\n",
    "plt.show() # show the plot"
   ]
  },
  {
   "cell_type": "code",
   "execution_count": 17,
   "metadata": {
    "deletable": false,
    "editable": false,
    "nbgrader": {
     "cell_type": "code",
     "checksum": "20c5496c6a48f6afc6f641f3caf12901",
     "grade": true,
     "grade_id": "cell-a6d0e42fc54569a7",
     "locked": true,
     "points": 1,
     "schema_version": 3,
     "solution": false
    }
   },
   "outputs": [
    {
     "name": "stdout",
     "output_type": "stream",
     "text": [
      "sanity check tests passed!\n"
     ]
    }
   ],
   "source": [
    "# plot tests\n",
    "\n",
    "# the following two imports are for testing purposes only\n",
    "from plotchecker import ScatterPlotChecker\n",
    "from plotchecker import LinePlotChecker\n",
    "\n",
    "pc = ScatterPlotChecker(axes)\n",
    "np.testing.assert_array_equal(pc.x_data.reshape(-1,1), x, f\"The x values for the plot of the scatterplot are incorrect\")\n",
    "\n",
    "\n",
    "print('sanity check tests passed!')\n"
   ]
  },
  {
   "cell_type": "markdown",
   "metadata": {
    "deletable": false,
    "editable": false,
    "nbgrader": {
     "cell_type": "markdown",
     "checksum": "040c6f23ead7f151ae831d48e8981214",
     "grade": false,
     "grade_id": "cell-bd82f3e1536b9a6d",
     "locked": true,
     "schema_version": 3,
     "solution": false
    }
   },
   "source": [
    "<a id=\"Q5\"></a>\n",
    "\n",
    "## Fitting Models to Data - Learning from Data\n",
    "\n",
    "Consider the `Linnerud dataset` above which consists of data about the performance of persons. Each data point of this dataset represents an athlete doing some exercise. We could be interested in how certain properties or features of a person affect the level of performance. In particular, we might be interested in predicting the typical number of chin-ups that a person can do depending on her (or his) body weight. \n",
    "\n",
    "We can formalize this as a machine learning problem with data points characterized by the feature $x$ being the body weight in kg and the label $y$ being the number of chin-ups the person can do. Our goal is to find a predictor function $h(x)$ which takes the body weight $x$ as input and outputs a predicted label $\\hat{y}$ which is the anticipated (or guesses) number of chin-ups that the athlete shoudl be able to do. \n",
    "\n",
    "Choosing a good predictor $h(x)$ from the space of all possible functions $h(\\cdot): \\mathbb{R} \\rightarrow \\mathbb{R}$ is challenging since there are [**so many** of these functions](https://en.wikipedia.org/wiki/Function_of_a_real_variable#Cardinality_of_sets_of_functions_of_a_real_variable). Therefore, we restrict ourselves to the space of linear functions\n",
    "\\begin{equation}\n",
    "h^{(w)}(x) = w \\cdot x. \n",
    "\\end{equation} \n",
    "The set of all of such functions, obtained for different choices for $w$, constitutes the hypothesis space of linear predictors. \n",
    "Each function of this **hypothesis space** is characterized by a single number $w \\in \\mathbb{R}$. Once we specify this number (or weight), we can compute the function value $h^{(w)}(x)$ for any possible feature value $x$. "
   ]
  },
  {
   "cell_type": "markdown",
   "metadata": {
    "deletable": false,
    "editable": false,
    "nbgrader": {
     "cell_type": "markdown",
     "checksum": "c123c2901d2424fb87dee7f0efeb0d5b",
     "grade": false,
     "grade_id": "cell-682234cedb587efc",
     "locked": true,
     "schema_version": 3,
     "solution": false
    }
   },
   "source": [
    "<a id='HypothesisDemo'></a>\n",
    "<div class=\" alert alert-info\">\n",
    "    <b>Demo.</b> Hypothesis Space of Linear Predictor Functions.  \n",
    "    \n",
    "The code snippet below creates a scatterplot of the `Linnerud` dataset and also plots \n",
    "some of the predictor functions from the linear hypothesis space. These predictor functions \n",
    "are of the form $h(x) = w \\cdot x$ with given weight $w$.\n",
    "\n",
    "Hint: In this section we will use the Python library [Scikit-learn (Sklearn)](https://scikit-learn.org/stable/index.html) to fit models to data.\n",
    "\n",
    "</div>"
   ]
  },
  {
   "cell_type": "code",
   "execution_count": 18,
   "metadata": {
    "deletable": false,
    "editable": false,
    "nbgrader": {
     "cell_type": "code",
     "checksum": "4f30ae4dc53d96992b0c15b4c9f72602",
     "grade": false,
     "grade_id": "cell-6fadac9f2f063914",
     "locked": true,
     "schema_version": 3,
     "solution": false
    },
    "scrolled": false
   },
   "outputs": [
    {
     "data": {
      "image/png": "[encoded data removed]",
      "text/plain": [
       "<Figure size 864x432 with 1 Axes>"
      ]
     },
     "metadata": {
      "needs_background": "light"
     },
     "output_type": "display_data"
    }
   ],
   "source": [
    "from sklearn import linear_model\n",
    "\n",
    "reg = linear_model.LinearRegression(fit_intercept=False)\n",
    "reg.fit(x,y)\n",
    "\n",
    "hypothesis_space = []\n",
    "for i in range(0, 10):\n",
    "    reg.coef_ = np.array([[i*0.05]])\n",
    "    n = reg.predict(x)\n",
    "    hypothesis_space.append(n)\n",
    "\n",
    "fig, axes = plt.subplots(1, 1, figsize=(12, 6))\n",
    "    \n",
    "\n",
    "axes.scatter(x, y, color='blue',label=\"data points\")\n",
    "axes.plot(x, hypothesis_space[0], color='green',label='w = {:.2f}'.format(0*0.05))\n",
    "\n",
    "for i in range(len(hypothesis_space)-1):\n",
    "    y_n = hypothesis_space[i+1]\n",
    "    l = 'w = {:.2f}'.format((i+1)*0.05)\n",
    "    axes.plot(x, y_n, label=l)\n",
    "\n",
    "plt.rc('legend', fontsize=10) \n",
    "plt.rc('axes', labelsize=20) \n",
    "plt.rc('xtick', labelsize=20) \n",
    "plt.rc('ytick', labelsize=20) \n",
    "plt.rc('font', size=20)\n",
    "\n",
    "axes.set_title('Several different linear predictor functions')\n",
    "axes.set_xlabel('body weight (kg)')\n",
    "axes.set_ylabel('number of chinups')\n",
    "axes.legend(loc='upper left')\n",
    "plt.show()"
   ]
  },
  {
   "cell_type": "markdown",
   "metadata": {
    "deletable": false,
    "editable": false,
    "nbgrader": {
     "cell_type": "markdown",
     "checksum": "6001ead4a6a9708e5a2cae04a15ba21f",
     "grade": false,
     "grade_id": "cell-1ed770e7af6187b0",
     "locked": true,
     "schema_version": 3,
     "solution": false
    }
   },
   "source": [
    "\n",
    "### Learning the Best Predictor by Fitting a Model\n",
    "\n",
    "A key idea underlying ML is to choose predictor functions $h(x)$ based on how well they fit historic or training data. For linear predictors, of the form $h(x)=w \\cdot x$, the search of a good predictor reduces to the search for a good choice for the weight $w \\in \\mathbb{R}$ which is just a number. \n",
    "\n",
    "In order search for a good predictor function, we need a way to measure the quality of a predictor function. We need to define the loss incurred when the true label is $y$ but the predicted label is $\\hat{y}$. As discussed in Chapter 3 of the course book, there are many different choices for how to define the loss. One particular choice is the squared error loss $(y - \\hat{y})^{2}$. It is important to note that the loss can only be evaluated if we know the true label $y$. One option to get labeled data is from historic recordings or experiments like for the Linnerud data. Assume we have some labeled data points $(x^{(1)},y^{(1)}),\\ldots,(x^{(m)},y^{(m)})$ consisting of $m$ data points. The $i$th data point has the feature $x^{(i)}$ and the true label $y^{(i)}$. \n",
    "We have now all the tools to find the best linear predictor $h(x) = w \\cdot x$ by minimizing the empirical risk or average squared error loss \n",
    "\\begin{equation}\n",
    "(1/m) \\sum_{i=1}^{m} (y^{(i)} - \\hat{y}^{(i)})^{2} = (1/m) \\sum_{i=1}^{m} (y^{(i)} - w \\cdot x^{(i)})^{2}. \n",
    "\\end{equation}"
   ]
  },
  {
   "cell_type": "markdown",
   "metadata": {
    "deletable": false,
    "editable": false,
    "nbgrader": {
     "cell_type": "markdown",
     "checksum": "ab98acc4b12183cb3edba68ce94ce46b",
     "grade": false,
     "grade_id": "cell-cb8925a42313f816",
     "locked": true,
     "schema_version": 3,
     "solution": false
    }
   },
   "source": [
    "<a id='FitRegressionDemo'></a>\n",
    "<div class=\" alert alert-info\">\n",
    "    <b>Demo.</b> Fitting a Linear Model to Data.  \n",
    "\n",
    "The code snippet below loads features and labels of data points of the `Linnerud`data set and stores them into the numpy arrays `x`and `y`. The $i$th entry of these numpy array is the feature $x^{(i)}$ and true label $y^{(i)}$, respectively, of the $i$th data point. We then use the Python class `LinearRegression` to fit a linear model to this data points. \n",
    "\n",
    "A linear model corresponds to the set of linear predictor $h(x) = w \\cdot x$ whose weight $w$ is optimized using the function `LinearRegression.fit()` in order to minimize the prediction error $y-h(x)$. The optimal weight $w_{\\rm opt}$ is computed by the function `LinearRegression.fit()` and the corresponding prediction $\\hat{y} = w_{\\rm opt} x$ for a data point with feature $x$ can be computed using `LinearRegression.predict()`. \n",
    "\n",
    "We plot the data points along with the predictions $\\hat{y}^{(i)} = w_{\\rm opt} x^{(i)}$ and the prediction errors $y^{(i)} - \\hat{y}^{(i)} = y^{(i)} - w_{\\rm opt} x^{(i)}$ as red bars. \n",
    "\n",
    "</div>"
   ]
  },
  {
   "cell_type": "code",
   "execution_count": 19,
   "metadata": {
    "deletable": false,
    "editable": false,
    "nbgrader": {
     "cell_type": "code",
     "checksum": "cffe70ebe645615c5d0e2979509d075d",
     "grade": false,
     "grade_id": "cell-526e2cdadff23ecb",
     "locked": true,
     "schema_version": 3,
     "solution": false
    }
   },
   "outputs": [
    {
     "name": "stdout",
     "output_type": "stream",
     "text": [
      "optimal weight w = [[0.11143529]]\n"
     ]
    },
    {
     "data": {
      "text/plain": [
       "Text(0, 0.5, 'label y (number of chin-ups)')"
      ]
     },
     "execution_count": 19,
     "metadata": {},
     "output_type": "execute_result"
    },
    {
     "data": {
      "image/png": "[encoded data removed]",
      "text/plain": [
       "<Figure size 576x288 with 1 Axes>"
      ]
     },
     "metadata": {
      "needs_background": "light"
     },
     "output_type": "display_data"
    }
   ],
   "source": [
    "from sklearn import linear_model\n",
    "from sklearn.datasets import make_regression\n",
    "\n",
    "linnerud = datasets.load_linnerud()  # load Linnerud dataset into dictionary `linnerud`\n",
    "X = linnerud['data']    # read out feature vectors stored under key 'data' \n",
    "Y = linnerud['target']  # read out label values stored under key 'target' \n",
    "\n",
    "x = Y.T[0] # weight (in Lbs) for each athlete \n",
    "y = X.T[0] # number of chin ups for each athlete\n",
    "x = x.reshape(-1,1)  # convert to numpy array of shape (m,1)\n",
    "y = y.reshape(-1,1)  # convert to numpy array of shape (m,1)\n",
    "x = x*0.453 # convert Lbs to Kg\n",
    "\n",
    "\n",
    "# plot regression dataset\n",
    "\n",
    "plt.rc('font', size=20)\n",
    "\n",
    "reg = linear_model.LinearRegression(fit_intercept=False)\n",
    "reg.fit(x, y)\n",
    "y_pred = reg.predict(x)\n",
    "\n",
    "print(\"optimal weight w =\", reg.coef_)\n",
    "\n",
    "\n",
    "fig, axes = plt.subplots(1, 1, figsize=(8, 4))\n",
    "axes.scatter(x, y, label='data points')\n",
    "axes.plot(x, y_pred, color='green', label='optimal linear predictor')\n",
    "\n",
    "\n",
    "# indicate error bars\n",
    "\n",
    "axes.plot((x[0], x[0]), (y[0], y_pred[0]), color='red', label='errors') # add label to legend\n",
    "for i in range(len(x)-1):\n",
    "    lineXdata = (x[i+1], x[i+1]) # same X\n",
    "    lineYdata = (y[i+1], y_pred[i+1]) # different Y\n",
    "    axes.plot(lineXdata, lineYdata, color='red')\n",
    "\n",
    "axes.legend()\n",
    "axes.set_xlabel(\"feature x (body weight)\")\n",
    "axes.set_ylabel(\"label y (number of chin-ups)\")\n",
    "    \n",
    "    "
   ]
  },
  {
   "cell_type": "markdown",
   "metadata": {
    "deletable": false,
    "editable": false,
    "nbgrader": {
     "cell_type": "markdown",
     "checksum": "fcf271aaf10dc70ea9307abdfecac420",
     "grade": false,
     "grade_id": "cell-16037415de0db9f3",
     "locked": true,
     "schema_version": 3,
     "solution": false
    }
   },
   "source": [
    "## Adding an Intercept Term \n",
    "\n",
    "A simple but useful extension of the linear prediction functions used above is to add an intercept term. In particular, we consider predictor functions of the form \n",
    "\\begin{equation}\n",
    "h(x) = w \\cdot x + b \n",
    "\\end{equation}\n",
    "which involves a weight $w$ and a constant offset $b$ which is referred to as the \"intercept\". The code snippet below finds (or learns) the best combination of weight $w$ and intercept term $b$ for a given set of data points $(x^{(i)},y^{(i)})$. "
   ]
  },
  {
   "cell_type": "markdown",
   "metadata": {
    "deletable": false,
    "editable": false,
    "nbgrader": {
     "cell_type": "markdown",
     "checksum": "6e11ef19d371a84e1f66884cb1c379d9",
     "grade": false,
     "grade_id": "cell-1f2da26eb39d5fd6",
     "locked": true,
     "schema_version": 3,
     "solution": false
    }
   },
   "source": [
    "<a id='FitRegressionDemo'></a>\n",
    "<div class=\" alert alert-info\">\n",
    "    <b>Demo.</b> Fitting a Linear Model with Intercept.  \n",
    "\n",
    "The code snippet below fits a linear regression model to a set of data points $(x^{(1)},y^{(1)}),\\ldots,(x^{(m)},y^{(m)})$ which are generated synthetically (using a random generator) and stored in the vectors `syn_x` and `syn_y`. We use the Python class `linear_model.LinearRegression` to represent the set of linear predictor functions. Using the input argument \"fit_intercept=True\" includes an intercept term. \n",
    "</div>"
   ]
  },
  {
   "cell_type": "code",
   "execution_count": 20,
   "metadata": {
    "deletable": false,
    "editable": false,
    "nbgrader": {
     "cell_type": "code",
     "checksum": "33f042ff6f859ff6c1e577e3f7b5fe6e",
     "grade": false,
     "grade_id": "cell-60a4ce52cae5a325",
     "locked": true,
     "schema_version": 3,
     "solution": false
    }
   },
   "outputs": [
    {
     "data": {
      "image/png": "[encoded data removed]",
      "text/plain": [
       "<Figure size 576x288 with 1 Axes>"
      ]
     },
     "metadata": {
      "needs_background": "light"
     },
     "output_type": "display_data"
    }
   ],
   "source": [
    "from sklearn import linear_model\n",
    "from sklearn.datasets import make_regression\n",
    "\n",
    "# generate some synthetic dataset\n",
    "syn_x, syn_y = make_regression(n_samples=30, n_features=1, noise=30)\n",
    "syn_y = syn_y + 10*np.ones(30).reshape(syn_y.shape)\n",
    "syn_x = syn_x + 10*np.ones(30).reshape(syn_x.shape)\n",
    "\n",
    "# plot regression dataset\n",
    "\n",
    "plt.rc('font', size=20)\n",
    "\n",
    "reg = linear_model.LinearRegression(fit_intercept=False)\n",
    "reg_intercept = linear_model.LinearRegression(fit_intercept=True)\n",
    "reg = reg.fit(syn_x, syn_y)\n",
    "reg_intercept = reg_intercept.fit(syn_x, syn_y)\n",
    "x_grid = np.linspace(-1, 16, num=100).reshape(-1,1)\n",
    "y_pred = reg.predict(x_grid)\n",
    "y_pred_intercept = reg_intercept.predict(x_grid)\n",
    "\n",
    "fig, axes = plt.subplots(1, 1, figsize=(8, 4))\n",
    "axes.scatter(syn_x, syn_y, label='data points')\n",
    "axes.plot(x_grid, y_pred, color='green', label='no intercept')\n",
    "axes.plot(x_grid, y_pred_intercept, color='red', label='with intercept')\n",
    "\n",
    "axes.legend()\n",
    "axes.set_xlabel(\"feature x\")\n",
    "axes.set_ylabel(\"label y\")\n",
    "axes.axhline(y=0, color='k',linestyle=':')\n",
    "axes.axvline(x=0, color='k',linestyle=':')\n",
    "plt.show()"
   ]
  },
  {
   "cell_type": "markdown",
   "metadata": {
    "deletable": false,
    "editable": false,
    "nbgrader": {
     "cell_type": "markdown",
     "checksum": "d74a31903a2e3309bcf1181b3233c8f7",
     "grade": false,
     "grade_id": "Probability_Distributions_text",
     "locked": true,
     "schema_version": 3,
     "solution": false
    }
   },
   "source": [
    "<a id=\"Q52\"></a>\n",
    "## Probabilistic Models\n",
    "\n",
    "Instead of fitting a linear model (represented by a straight line) to data points, we can also interpret data points as realizations of random variables and try to fit a probablitiy distribution to them. In this section we will demonstrate how to use the [`GaussianMixture`](https://scikit-learn.org/stable/modules/generated/sklearn.mixture.GaussianMixture.html#sklearn.mixture.GaussianMixture) and [`multivariate_normal`](http://lagrange.univ-lyon1.fr/docs/scipy/0.17.1/generated/scipy.stats.multivariate_normal.html) to fit gaussian models to datasets.\n",
    "The Gaussian distribution is important because many processes in nature and social sciences can be accurately modeled using Gaussian random variables.\n",
    "\n",
    "Under [this link](http://mathworld.wolfram.com/NormalDistribution.html), you can find more information about the Gaussian pdf and in [this link](https://matplotlib.org/api/_as_gen/matplotlib.pyplot.contour.html) you can find more information about `plt.contour`. \n"
   ]
  },
  {
   "cell_type": "markdown",
   "metadata": {
    "deletable": false,
    "editable": false,
    "nbgrader": {
     "cell_type": "markdown",
     "checksum": "5e6c4fc61fd23e64beeecd20f1e24fb2",
     "grade": false,
     "grade_id": "cell-a17e31093536d33a",
     "locked": true,
     "schema_version": 3,
     "solution": false
    }
   },
   "source": [
    "<a id='FitProbabilisticDemo'></a>\n",
    "<div class=\" alert alert-info\">\n",
    "    <b>Demo.</b> Fitting a Gaussian Distribution to Data.  \n",
    "   \n",
    "\n",
    "The code snippet below fits a mixture of two Gaussian distributions to data points which are generated using a random number generator. In particular, the data points are sampled from a mixture of two Gaussian distributions with different mean and covariance. Gaussian mixture models (GMM) are implemented in the Python class [`GaussianMixture`](https://scikit-learn.org/stable/modules/generated/sklearn.mixture.GaussianMixture.html#sklearn.mixture.GaussianMixture). Fitting a GMM to data points is done using the function `GaussianMixture.fit()`. Thus, instead of fitting a GMM using pen and paper (solving a difficult [maximum likelihood problem](https://stephens999.github.io/fiveMinuteStats/intro_to_em.html)) we can use one line of Python code :-) \n",
    "\n",
    " </div>"
   ]
  },
  {
   "cell_type": "code",
   "execution_count": 21,
   "metadata": {
    "deletable": false,
    "editable": false,
    "nbgrader": {
     "cell_type": "code",
     "checksum": "04dc0ea5bd794001a09152227bddc44d",
     "grade": false,
     "grade_id": "cell-b1b96ac7813ae937",
     "locked": true,
     "schema_version": 3,
     "solution": false
    }
   },
   "outputs": [
    {
     "data": {
      "image/png": "[encoded data removed]",
      "text/plain": [
       "<Figure size 432x288 with 2 Axes>"
      ]
     },
     "metadata": {
      "needs_background": "light"
     },
     "output_type": "display_data"
    }
   ],
   "source": [
    "import numpy as np\n",
    "import matplotlib.pyplot as plt\n",
    "from matplotlib.colors import LogNorm\n",
    "from sklearn.mixture import GaussianMixture\n",
    "\n",
    "n_samples = 300\n",
    "\n",
    "np.random.seed(0)\n",
    "\n",
    "# generate spherical data centered on (20, 20)\n",
    "shifted_gaussian = np.random.randn(n_samples, 2) + np.array([20, 20])\n",
    "\n",
    "# generate zero centered stretched Gaussian data\n",
    "C = np.array([[0., -0.7], [3.5, .7]])\n",
    "stretched_gaussian = np.dot(np.random.randn(n_samples, 2), C)\n",
    "\n",
    "# concatenate the two datasets into the final training set\n",
    "X_train = np.vstack([shifted_gaussian, stretched_gaussian])\n",
    "\n",
    "# fit a Gaussian Mixture Model with two components\n",
    "clf = GaussianMixture(n_components=2, covariance_type='full', random_state=1)\n",
    "clf.fit(X_train)\n",
    "\n",
    "# display predicted scores by the model as a contour plot\n",
    "x = np.linspace(-20., 30.)\n",
    "y = np.linspace(-20., 40.)\n",
    "X, Y = np.meshgrid(x, y)\n",
    "XX = np.array([X.ravel(), Y.ravel()]).T\n",
    "Z = -clf.score_samples(XX)\n",
    "Z = Z.reshape(X.shape)\n",
    "\n",
    "CS = plt.contour(X, Y, Z, norm=LogNorm(vmin=1.0, vmax=1000.0), levels=np.logspace(0, 3, 10))\n",
    "CB = plt.colorbar(CS, shrink=0.8, extend='both')\n",
    "plt.scatter(X_train[:, 0], X_train[:, 1], .8)\n",
    "\n",
    "plt.title('Negative log-likelihood predicted by a GMM')\n",
    "plt.axis('tight')\n",
    "plt.show()"
   ]
  },
  {
   "cell_type": "markdown",
   "metadata": {
    "deletable": false,
    "editable": false,
    "nbgrader": {
     "cell_type": "markdown",
     "checksum": "6e51b38052e8ae15f69cb5c2a23a971f",
     "grade": false,
     "grade_id": "Task_5_2_text",
     "locked": true,
     "schema_version": 3,
     "solution": false
    }
   },
   "source": [
    "<a id='Fit2DGaussian'></a>\n",
    "<div class=\" alert alert-info\">\n",
    "    <b>Demo.</b> Fitting a Gaussian Distribution to WikiData Data.  \n",
    "    </div>\n",
    "\n",
    "The code snippet below fits a two-dimensional Gaussian distribution to a set of data points which is read in from wikidata. "
   ]
  },
  {
   "cell_type": "code",
   "execution_count": 22,
   "metadata": {
    "deletable": false,
    "editable": false,
    "nbgrader": {
     "cell_type": "code",
     "checksum": "30b2fcad6fb199769263ec2dd8ede33d",
     "grade": false,
     "grade_id": "Task_5_2_code",
     "locked": true,
     "schema_version": 3,
     "solution": false
    }
   },
   "outputs": [
    {
     "data": {
      "image/png": "[encoded data removed]",
      "text/plain": [
       "<Figure size 1080x576 with 1 Axes>"
      ]
     },
     "metadata": {
      "needs_background": "light"
     },
     "output_type": "display_data"
    }
   ],
   "source": [
    "from scipy.stats import multivariate_normal\n",
    "\n",
    "#scatter plot of the wikidata population and area\n",
    "population = data_wikidata[:,0]\n",
    "area = data_wikidata[:,1]\n",
    "plt.figure(figsize=(15,8))\n",
    "plt.scatter(population, area, label='wikidata')\n",
    "\n",
    "#scaling for a better view of the data\n",
    "plt.xlim(-2e7,9e7)\n",
    "plt.ylim(-1e5,7e5)\n",
    "#compute mean and covariance matrix of data_wikidata using the formula from Task number 4 and plot\n",
    "#showing a red x as the mean in the graph\n",
    "x_mean = np.mean(population)\n",
    "y_mean = np.mean(area)\n",
    "plt.plot(x_mean, y_mean, 'rx')\n",
    "X = data_wikidata\n",
    "\n",
    "#compute the covariance matrix C = (1/m) X^T X\n",
    "C = np.matmul(np.transpose(X), X)/X.shape[0]\n",
    "\n",
    "#plot Gaussian using the mean and the covariance computed in the step before, to fit the scatterplot\n",
    "#data in the same graph as before, using the function plt.contour from matplotlibrary\n",
    "#these two values are taken looking at the population and area values \n",
    "#(lower than the minimum and higher than the maximum value)\n",
    "x = np.linspace(-12e7,9e7, 100) \n",
    "y = np.linspace(-1e5,7e5, 100)\n",
    "\n",
    "x_mesh, y_mesh = np.meshgrid(x,y)\n",
    "pos = np.array([x_mesh.flatten(),y_mesh.flatten()]).T\n",
    "z = multivariate_normal([x_mean,y_mean],C).pdf(pos)\n",
    "z = z.reshape((100, 100))\n",
    "plt.contour(x_mesh,y_mesh,z,10)\n",
    "plt.xlabel('population')\n",
    "plt.ylabel('area')\n",
    "\n",
    "plt.show()"
   ]
  },
  {
   "cell_type": "markdown",
   "metadata": {
    "deletable": false,
    "editable": false,
    "nbgrader": {
     "cell_type": "markdown",
     "checksum": "e55e5729e2e1f1b9a4b85d0388d8d572",
     "grade": false,
     "grade_id": "cell-07143459df52a5c0",
     "locked": true,
     "schema_version": 3,
     "solution": false
    }
   },
   "source": [
    "## Take Home Quiz "
   ]
  },
  {
   "cell_type": "markdown",
   "metadata": {
    "deletable": false,
    "editable": false,
    "nbgrader": {
     "cell_type": "markdown",
     "checksum": "b98f7b41ae2702932b3aa66eebf8e838",
     "grade": false,
     "grade_id": "cell-81144558954a5835",
     "locked": true,
     "schema_version": 3,
     "solution": false
    }
   },
   "source": [
    "Try to answer the following questions by setting the `answer_R1_Q??` variable for each question to the number of the correct answer. For example, if you think that the second answer in the first quizz question is the right one, then set `answer_R1_Q1=2`. "
   ]
  },
  {
   "cell_type": "markdown",
   "metadata": {
    "deletable": false,
    "editable": false,
    "nbgrader": {
     "cell_type": "markdown",
     "checksum": "b2a78ff6eec41732d4b97ddfa4192639",
     "grade": false,
     "grade_id": "cell-1aa1ddb20cf88962",
     "locked": true,
     "schema_version": 3,
     "solution": false
    }
   },
   "source": [
    "<a id='QuestionR1_1'></a>\n",
    "<div class=\" alert alert-warning\">\n",
    "    <b>Student Task.</b> Question R1.1. \n",
    "\n",
    "<div>Which are typical components of most machine learning problem?</div>\n",
    "\n",
    "<ol>\n",
    "  <li>data, hypothesis space (or \"model\") and some loss function (quality measure)</li>\n",
    "  <li>some Python code </li>\n",
    "  <li>some Java code</li>\n",
    "  <li>a cleaning robot</li>\n",
    "</ol> \n",
    "\n",
    "</div>"
   ]
  },
  {
   "cell_type": "code",
   "execution_count": null,
   "metadata": {
    "deletable": false,
    "nbgrader": {
     "cell_type": "code",
     "checksum": "619ea0d311b683c64ad2cbe972db561d",
     "grade": false,
     "grade_id": "cell-be2c274c69a172dc",
     "locked": false,
     "schema_version": 3,
     "solution": true
    }
   },
   "outputs": [],
   "source": [
    "#answer_Q1\n",
    "\n",
    "answer_R1_Q1  = 1\n",
    "# YOUR CODE HERE\n",
    "#raise NotImplementedError()"
   ]
  },
  {
   "cell_type": "markdown",
   "metadata": {
    "deletable": false,
    "editable": false,
    "nbgrader": {
     "cell_type": "markdown",
     "checksum": "3221090979bd2449d38a5efd0d0e818d",
     "grade": false,
     "grade_id": "cell-69074839f3662652",
     "locked": true,
     "schema_version": 3,
     "solution": false
    }
   },
   "source": [
    "<a id='QuestionR1_2'></a>\n",
    "<div class=\" alert alert-warning\">\n",
    "    <b>Student Task.</b> Question R1.2. \n",
    "\n",
    "<div>Matrix A has 2 rows and 2 columns. Matrix B has 3 rows and 2 columns. \n",
    "How many rows and columns does the product `A*B` of these two matrices have?</div>\n",
    "\n",
    "<ol>\n",
    "  <li>2 rows and 2 columns</li>\n",
    "  <li>3 rows and 3 columns</li>\n",
    "  <li>2 rows and 2 columns</li>\n",
    "  <li>This multiplication is impossible to perform</li>\n",
    "</ol> \n",
    "\n",
    "</div>"
   ]
  },
  {
   "cell_type": "code",
   "execution_count": null,
   "metadata": {
    "deletable": false,
    "nbgrader": {
     "cell_type": "code",
     "checksum": "6244ca81a0668e7460666b61d90f96d0",
     "grade": false,
     "grade_id": "cell-7181cec73d8721a9",
     "locked": false,
     "schema_version": 3,
     "solution": true
    }
   },
   "outputs": [],
   "source": [
    "#answer_Q2\n",
    "\n",
    "answer_R1_Q2 = 4\n",
    "# YOUR CODE HERE\n",
    "#raise NotImplementedError()"
   ]
  },
  {
   "cell_type": "markdown",
   "metadata": {
    "deletable": false,
    "editable": false,
    "nbgrader": {
     "cell_type": "markdown",
     "checksum": "f36a714fa69323efb23cce1c76ca9d24",
     "grade": false,
     "grade_id": "cell-3046aeea89e6dec3",
     "locked": true,
     "schema_version": 3,
     "solution": false
    }
   },
   "source": [
    "<a id='QuestionR1_3'></a>\n",
    "<div class=\" alert alert-warning\">\n",
    "    <b>Student Task.</b> Question R1.3. \n",
    "\n",
    "<div>Consider data points having features $\\mathbf{x}$ and a numeric label $y$. How can the quality of a predictor function $h(\\mathbf{x})$, which delivers a predicted label $\\hat{y}=h(\\mathbf{x})$ be measured to choose the best predictor function?</div>\n",
    "\n",
    "<ol>\n",
    "  <li>Use the difference between our predicted value $\\hat{y}$ and true label $y$, i.e: $y - \\hat{y}$ and pick the predictor function with the lowest value of loss.</li>\n",
    "  <li>Use the squared error loss $(y - \\hat{y})^{2}$ and pick the predictor function with the highest value of squared error loss.</li>\n",
    "  <li>Use the squared error loss $(x - \\hat{x})^{2}$ and pick the predictor function with the lowest value of squared error loss.</li>\n",
    "  <li>Use the squared error loss $(y - \\hat{y})^{2}$ and pick the predictor function with the lowest value of the squared error loss.</li>\n",
    "</ol> \n",
    "\n",
    "</div>"
   ]
  },
  {
   "cell_type": "code",
   "execution_count": null,
   "metadata": {
    "deletable": false,
    "nbgrader": {
     "cell_type": "code",
     "checksum": "1426ba65c04b92c93840776895b1a676",
     "grade": false,
     "grade_id": "cell-8b0c045a8dd164b0",
     "locked": false,
     "schema_version": 3,
     "solution": true
    }
   },
   "outputs": [],
   "source": [
    "# answer_Q3\n",
    "\n",
    "answer_R1_Q3  = 4\n",
    "# YOUR CODE HERE\n",
    "#raise NotImplementedError()"
   ]
  },
  {
   "cell_type": "code",
   "execution_count": null,
   "metadata": {
    "deletable": false,
    "editable": false,
    "nbgrader": {
     "cell_type": "code",
     "checksum": "c50d3f526b67f301a4712f804cbe6173",
     "grade": true,
     "grade_id": "cell-f8cf4a0b2c7d28bd",
     "locked": true,
     "points": 1,
     "schema_version": 3,
     "solution": false
    }
   },
   "outputs": [],
   "source": [
    "# this cell is for tests\n",
    "\n",
    "\n",
    "assert answer_R1_Q1 in [1,2,3,4], '\"answer_R2_Q1\" Value should be an integer between 1 and 4.'\n",
    "assert answer_R1_Q2 in [1,2,3,4], '\"answer_R2_Q2\" Value should be an integer between 1 and 4.'\n",
    "assert answer_R1_Q3 in [1,2,3,4], '\"answer_R2_Q3\" Value should be an integer between 1 and 4.'\n",
    "print('Sanity check tests passed!')\n"
   ]
  }
 ],
 "metadata": {
  "kernelspec": {
   "display_name": "Python 3",
   "language": "python",
   "name": "python3"
  },
  "language_info": {
   "codemirror_mode": {
    "name": "ipython",
    "version": 3
   },
   "file_extension": ".py",
   "mimetype": "text/x-python",
   "name": "python",
   "nbconvert_exporter": "python",
   "pygments_lexer": "ipython3",
   "version": "3.7.3"
  },
  "varInspector": {
   "cols": {
    "lenName": 16,
    "lenType": 16,
    "lenVar": 40
   },
   "kernels_config": {
    "python": {
     "delete_cmd_postfix": "",
     "delete_cmd_prefix": "del ",
     "library": "var_list.py",
     "varRefreshCmd": "print(var_dic_list())"
    },
    "r": {
     "delete_cmd_postfix": ") ",
     "delete_cmd_prefix": "rm(",
     "library": "var_list.r",
     "varRefreshCmd": "cat(var_dic_list()) "
    }
   },
   "types_to_exclude": [
    "module",
    "function",
    "builtin_function_or_method",
    "instance",
    "_Feature"
   ],
   "window_display": false
  }
 },
 "nbformat": 4,
 "nbformat_minor": 2
}
