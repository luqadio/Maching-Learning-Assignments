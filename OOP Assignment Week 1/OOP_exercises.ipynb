{
 "cells": [
  {
   "cell_type": "markdown",
   "metadata": {},
   "source": [
    "## Task 1"
   ]
  },
  {
   "cell_type": "code",
   "execution_count": 1,
   "metadata": {},
   "outputs": [],
   "source": [
    "class VideoApp:\n",
    "\n",
    "    participants_online = 0\n",
    "\n",
    "    def __init__(self, user_name, company):\n",
    "        self.action = [\"speaking\", \"silent\"]\n",
    "        self.user_name = str(user_name)\n",
    "        self.company = str(company)\n",
    "        \n",
    "    def __repr__(cls):\n",
    "\n",
    "        return f'jznc'\n",
    "\n",
    "\n",
    "    @classmethod\n",
    "    def go_online(cls):\n",
    "        cls.participants_online += 1\n",
    "\n",
    "    @classmethod\n",
    "    def go_offline(cls):\n",
    "        cls.participants_online -= 1\n",
    "\n",
    "\n",
    "    @classmethod\n",
    "    def show_participants_online(cls):\n",
    "        print(f'Number of online participants is {cls.participants_online}')\n"
   ]
  },
  {
   "cell_type": "markdown",
   "metadata": {},
   "source": [
    "## Task 2"
   ]
  },
  {
   "cell_type": "code",
   "execution_count": 2,
   "metadata": {},
   "outputs": [
    {
     "name": "stdout",
     "output_type": "stream",
     "text": [
      "k\n",
      "vvvvvvvvv\n"
     ]
    }
   ],
   "source": [
    "class Comp_str(str):\n",
    "    def __new__(cls, *args, **kwargs):\n",
    "        instance = super(Comp_str, cls).__new__(cls, *args, **kwargs)\n",
    "        instance.split(',')\n",
    "        cls.string1 = instance[0]\n",
    "        cls.string2 = instance[1]\n",
    "        return instance\n",
    "\n",
    "a = Comp_str('kkkkk, llllll')\n",
    "print(Comp_str.string1)\n",
    "\n",
    "\n",
    "b = 'vvvvvvvvv,ccccccc'\n",
    "c =b.split(',')\n",
    "print(c[0])"
   ]
  },
  {
   "cell_type": "markdown",
   "metadata": {},
   "source": [
    "## Task 3"
   ]
  },
  {
   "cell_type": "code",
   "execution_count": 3,
   "metadata": {},
   "outputs": [
    {
     "name": "stdout",
     "output_type": "stream",
     "text": [
      "Person_all(date_of_birth='09-04-1991', eye_color='green', iq_score='109')\n"
     ]
    }
   ],
   "source": [
    "import collections\n",
    "\n",
    "PersonalDetails = collections.namedtuple('PersonalDetails', ['date_of_birth'])\n",
    "person_features = collections.namedtuple('person_features', ['eye_color', 'iq_score'])\n",
    "\n",
    "\n",
    "person_1_feature = person_features('green', '109')\n",
    "person_1_details = PersonalDetails('09-04-1991')\n",
    "\n",
    "\n",
    "#print(person_1_details._asdict())\n",
    "\n",
    "class PersonalJoiner:\n",
    "\n",
    "    @staticmethod\n",
    "    def join(*args):\n",
    "        result = {}\n",
    "        for i in args:\n",
    "            result.update(dict(i._asdict()))\n",
    "            #print(f'{i._asdict().keys()}')\n",
    "        #print(f'Person {result}')\n",
    "            Person_all = collections.namedtuple('Person_all',result.keys())\n",
    "            person1 = Person_all(**result)\n",
    "        return person1\n",
    "\n",
    "person = PersonalJoiner()\n",
    "print(person.join(person_1_details, person_1_feature))"
   ]
  },
  {
   "cell_type": "markdown",
   "metadata": {},
   "source": [
    "## Task 4"
   ]
  },
  {
   "cell_type": "code",
   "execution_count": 4,
   "metadata": {},
   "outputs": [
    {
     "name": "stdout",
     "output_type": "stream",
     "text": [
      "[12, 12]\n"
     ]
    }
   ],
   "source": [
    "from functools import wraps\n",
    "\n",
    "def double(func):\n",
    "    @wraps(func)\n",
    "    def wrapper(*args):\n",
    "        k = func(*args)\n",
    "        list = [k, k]\n",
    "        return list\n",
    "    return wrapper\n",
    "\n",
    "@double\n",
    "def sum(x,y):\n",
    "    return x + y\n",
    "\n",
    "print(sum(5,7))"
   ]
  },
  {
   "cell_type": "markdown",
   "metadata": {},
   "source": [
    "## Task 5"
   ]
  },
  {
   "cell_type": "code",
   "execution_count": 5,
   "metadata": {},
   "outputs": [
    {
     "name": "stdout",
     "output_type": "stream",
     "text": [
      "None\n"
     ]
    }
   ],
   "source": [
    "from functools import wraps\n",
    "\n",
    "def decorator(func):\n",
    "    @wraps(func)\n",
    "    def wrapper(**kwargs):\n",
    "        if kwargs['role'] == 'admin':\n",
    "            func(**kwargs)\n",
    "        else:\n",
    "            return 'invalid'\n",
    "    return wrapper\n",
    "\n",
    "@decorator\n",
    "def summer(**kwargs):\n",
    "    return kwargs['role']\n",
    "\n",
    "\n",
    "print(summer(role = 'admin'))"
   ]
  },
  {
   "cell_type": "code",
   "execution_count": null,
   "metadata": {},
   "outputs": [],
   "source": []
  }
 ],
 "metadata": {
  "kernelspec": {
   "display_name": "Python 3",
   "language": "python",
   "name": "python3"
  },
  "language_info": {
   "codemirror_mode": {
    "name": "ipython",
    "version": 3
   },
   "file_extension": ".py",
   "mimetype": "text/x-python",
   "name": "python",
   "nbconvert_exporter": "python",
   "pygments_lexer": "ipython3",
   "version": "3.6.8"
  }
 },
 "nbformat": 4,
 "nbformat_minor": 2
}
