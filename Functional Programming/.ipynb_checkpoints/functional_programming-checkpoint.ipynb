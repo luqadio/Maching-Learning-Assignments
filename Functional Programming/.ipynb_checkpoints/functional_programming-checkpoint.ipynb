{
 "cells": [
  {
   "cell_type": "markdown",
   "metadata": {},
   "source": [
    "## Task 1\n",
    "Write functional programming code to apply a list of functions on a list of integers. Explain how it works as well and how it relates to functional programing."
   ]
  },
  {
   "cell_type": "markdown",
   "metadata": {},
   "source": [
    "Two main properties of functional programming are avoiding mutable data and changing-state that means the output value of function depends only on argument passing to function and applying computation as evaluation of mathematical functions"
   ]
  },
  {
   "cell_type": "code",
   "execution_count": 2,
   "metadata": {},
   "outputs": [
    {
     "data": {
      "text/plain": [
       "[2, 6, 12]"
      ]
     },
     "execution_count": 2,
     "metadata": {},
     "output_type": "execute_result"
    }
   ],
   "source": [
    "func1 = lambda x: x*2\n",
    "func2 = lambda x: x*3\n",
    "func3 = lambda x: x*4\n",
    "\n",
    "funcs = [func1, func2, func3]\n",
    "\n",
    "int_list = [1,2,3,4,5] \n",
    "\n",
    "list(map(lambda x, y: y(x), int_list, funcs))"
   ]
  },
  {
   "cell_type": "markdown",
   "metadata": {},
   "source": [
    "We can iterate items in a list to apply them to a function using map() function. Actually, with that we passing a fuction to another function. A function that accepts other function as parameters is a high-order function. "
   ]
  },
  {
   "cell_type": "markdown",
   "metadata": {},
   "source": [
    "## Task 2\n",
    "Find the greatest common divisor of a list of numbers using Reduce. Explain how the code works as well. Explain how it works as well and how it relates to functional programing."
   ]
  },
  {
   "cell_type": "code",
   "execution_count": 3,
   "metadata": {},
   "outputs": [
    {
     "data": {
      "text/plain": [
       "2"
      ]
     },
     "execution_count": 3,
     "metadata": {},
     "output_type": "execute_result"
    }
   ],
   "source": [
    "from functools import reduce\n",
    "from numpy import gcd\n",
    "\n",
    "\n",
    "reduce(gcd, [12,20, 8, 18])"
   ]
  },
  {
   "cell_type": "markdown",
   "metadata": {},
   "source": [
    "'reduce' function takes first two elements of a list and applies them to a function, here that function is 'gcd' function which is used to find greatest common divisor of two elements given.\n",
    "Aforementioned code has two properties that is related to functional programming. No matter how many times you call same function, it will produce same result each time and after applying it, it won't change its environment such as the list given to reduce function. These are two requirements for functional programming."
   ]
  },
  {
   "cell_type": "markdown",
   "metadata": {},
   "source": [
    "## Task 3\n",
    "1. Write a function groupby_demonstrator that takes as a list of tuples as an input (arg data) as well as boolean argument (verify_sorted). If verify_sorted is true, the list is sorted by the first key (0-th tuple element), otherwise it is not sorted."
   ]
  },
  {
   "cell_type": "code",
   "execution_count": 4,
   "metadata": {},
   "outputs": [
    {
     "name": "stdout",
     "output_type": "stream",
     "text": [
      "A 1 is a number.\n",
      "A 7 is a number.\n",
      "A a is a letter.\n"
     ]
    },
    {
     "data": {
      "text/plain": [
       "(['number', 'number', 'letter'],\n",
       " [('number', 1), ('number', 7), ('letter', 'a')])"
      ]
     },
     "execution_count": 4,
     "metadata": {},
     "output_type": "execute_result"
    }
   ],
   "source": [
    "\n",
    "from itertools import groupby\n",
    "\n",
    "def ensure_sourted_grouper(func):\n",
    "    def wrapper(*args, **kwargs):\n",
    "        keys, things = func(*args, **kwargs)\n",
    "            \n",
    "\n",
    "        #else:\n",
    "         #   print('You did not enforce the order')\n",
    "            \n",
    "    return wrapper\n",
    "\n",
    "#@ensure_sourted_grouper_decorator\n",
    "def groupby_demonstrator(*args, verify_sorted):\n",
    "    keys = []\n",
    "    things = []\n",
    "    if verify_sorted == True:\n",
    "        for key, group in groupby(args, lambda x: x[0]):\n",
    "            for thing in group:\n",
    "                keys.append(key)\n",
    "                things.append(thing)\n",
    "                #print(key,thing)\n",
    "                print(f\"A {thing[1]} is a {key}.\")\n",
    "                \n",
    "        \n",
    "                \n",
    "    else:\n",
    "        print(args)\n",
    "        \n",
    "     \n",
    "    return keys, things\n",
    "\n",
    "groupby_demonstrator(('number',1), ('number', 7), ('letter', 'a'), verify_sorted = True)"
   ]
  },
  {
   "cell_type": "code",
   "execution_count": 286,
   "metadata": {},
   "outputs": [],
   "source": [
    "\n",
    "def ensure_sourted_grouper_decorator(func):\n",
    "    def ensure_sourted_grouper(*args, verify_sorted):\n",
    "        if verify_sorted == True:\n",
    "            keys, things = func(*args, verify_sorted)\n",
    "\n",
    "\n",
    "        else:\n",
    "            print('You did not enforce the order')\n",
    "            \n",
    "    return ensure_sourted_grouper"
   ]
  },
  {
   "cell_type": "markdown",
   "metadata": {},
   "source": [
    "## Task 4\n",
    "In your own words, describe what is functional programming and how you can write functional programming code in Python (start here: https://docs.python.org/3/library/functional.html)"
   ]
  },
  {
   "cell_type": "markdown",
   "metadata": {},
   "source": [
    "Functional Programming is a programming paradigm that treats computation as the evaluation of mathematical functions and avoids changing-state and mutable data.As functional programming has no side effects, it's an excellent way to design program who need multithreading and scalability. Computational programming and avoiding using mutable data structures are two important requirements for implementing functional programming."
   ]
  }
 ],
 "metadata": {
  "kernelspec": {
   "display_name": "Python 3",
   "language": "python",
   "name": "python3"
  },
  "language_info": {
   "codemirror_mode": {
    "name": "ipython",
    "version": 3
   },
   "file_extension": ".py",
   "mimetype": "text/x-python",
   "name": "python",
   "nbconvert_exporter": "python",
   "pygments_lexer": "ipython3",
   "version": "3.6.8"
  }
 },
 "nbformat": 4,
 "nbformat_minor": 2
}
