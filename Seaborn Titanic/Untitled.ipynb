{
 "cells": [
  {
   "cell_type": "markdown",
   "metadata": {},
   "source": [
    "# Major  Components of Machine Learning\n",
    "\n",
    "<img src=\"AMLProblem.png\" alt=\"Drawing\" style=\"width: 600px;\"/>\n",
    "\n",
    "1. data points as the basic unit of information; data points are characterized by features (can be measured easily) and labels (high-level information that is difficult to acquire). \n",
    "2. a hypothesis space (also referred to as a ML model) consisting of computationally feasible predictor functions. \n",
    "3. a loss function that is used to assess the quality of a particular predictor function. \n",
    "\n",
    "To implement ML methods, we need to be able to efficiently **store and manipulate** data and predictor functions.  A quite powerful tool to represent and manipulate data and predictor functions are [matrices and vectors](https://en.wikipedia.org/wiki/Matrix_(mathematics)). \n",
    "\n",
    "Indeed, data points can often characterized by a list of numeric attributes, or \"features\", $x_{r}$ which can be stacked conveniently into a vector $\\mathbf{x}=\\big(x_{1},\\ldots,x_{n}\\big)^{T}$. Moreover, many ML methods (such as linear regression or logistic regression) use predictor functions of the form $h(\\mathbf{x}) = \\mathbf{w}^{T} \\mathbf{x}$ with some weight vector $\\mathbf{w}$. Note that once we restrict ourselves to linear functions of the form $h(\\mathbf{x}) = \\mathbf{w}^{T} \\mathbf{x}$, we can represent a predictor function by the weight vector $\\mathbf{w}$. Indeed, given the weight vector $\\mathbf{w}$, we can evaluate the predictor function for any feature vector $\\mathbf{x}$ as $h(\\mathbf{x}) = \\mathbf{w}^{T} \\mathbf{x}$. \n",
    "\n",
    "## Matrices and Vectors\n",
    "<a id=\"Q1\"></a>\n",
    "\n",
    "The Python library `numpy`, provides implementations of many useful matrix and vector operations, e.g. matrix multiplication or computing an eigenvalue decomposition. \n",
    "A matrix \n",
    "\\begin{equation}\n",
    "\\mathbf{X}  = \\begin{pmatrix} X_{1,1} & X_{1,2}& \\ldots & X_{1,n} \\\\ \n",
    "X_{2,1} & X_{2,2}& \\ldots & X_{2,n} \\\\ \n",
    "\\vdots & \\vdots & \\vdots & \\vdots \\\\ \n",
    "X_{m,1} & X_{m,2} & \\ldots & X_{m,n} \\end{pmatrix}\\in \\mathbb{R}^{m \\times n}\n",
    "\\end{equation} \n",
    "is represented as a numpy array of shape (m,n). A vector \n",
    "\\begin{equation}\n",
    "\\mathbf{x}  = \\begin{pmatrix} x_{1} \\\\ x_{2} \\\\ \\vdots \\\\ x_{m} \\end{pmatrix}\\in \\mathbb{R}^{m}\n",
    "\\end{equation} \n",
    "is represented as a numpy array of shape (m,1). "
   ]
  },
  {
   "cell_type": "markdown",
   "metadata": {},
   "source": [
    "<a id='LoadDataset'></a>\n",
    "<div class=\" alert alert-info\">\n",
    "    <b>Demo.</b> Vector and Matrix. \n",
    "    \n",
    "The code snippet below creates a [numpy array](http://cs231n.github.io/python-numpy-tutorial/#numpy-arrays) `X` of shape (2,3) to represent the matrix \n",
    "$\n",
    "\\mathbf{X} = \\begin{pmatrix} 11 & 12 & 13 \\\\ 21 & 22 & 23 \\end{pmatrix}.\\\\\n",
    "$\n",
    "The entry $X_{1,1}$ is accessed via the Python expression `X[0,0]` since in Python the indexing of arrays starts with $0$ instead of $1$. \n",
    "</div>"
   ]
  },
  {
   "cell_type": "code",
   "execution_count": 2,
   "metadata": {},
   "outputs": [
    {
     "name": "stdout",
     "output_type": "stream",
     "text": [
      " X = \n",
      " [[11 12 13]\n",
      " [21 22 23]]\n",
      "shape of X  (2, 3)\n"
     ]
    },
    {
     "data": {
      "text/latex": [
       "$\\displaystyle X_{1,1}=11.00$"
      ],
      "text/plain": [
       "<IPython.core.display.Math object>"
      ]
     },
     "metadata": {},
     "output_type": "display_data"
    },
    {
     "data": {
      "text/latex": [
       "$\\displaystyle X_{2,1}=21.00$"
      ],
      "text/plain": [
       "<IPython.core.display.Math object>"
      ]
     },
     "metadata": {},
     "output_type": "display_data"
    }
   ],
   "source": [
    "from IPython.display import display, Math\n",
    "import numpy as np  \n",
    "\n",
    "X = np.array([[11,12,13],[21,22,23]]) \n",
    "\n",
    "print(\" X = \\n\",X)\n",
    "print(\"shape of X \",X.shape)\n",
    "display(Math(r'$X_{1,1}=%02.2f' % X[0,0]))\n",
    "display(Math(r'$X_{2,1}=%02.2f' % X[1,0]))"
   ]
  },
  {
   "cell_type": "markdown",
   "metadata": {},
   "source": [
    "<a id='LoadDataset'></a>\n",
    "<div class=\" alert alert-info\">\n",
    "    <b>Demo.</b> Creating Matrices and Vectors. \n",
    "  \n",
    "<p>\n",
    "The code snippet below demonstrates how to create numpy arrays of different shapes. \n",
    "A numpy array of shape $(m,n)$ represents a matrix \n",
    "with $m$ rows and $n$ columns. A vector of length $m$ will be considered as a matrix with one single column \n",
    "and therefore be represented by a numpy array of shape $(m,1)$. \n",
    "</p>\n",
    "\n",
    "</div>"
   ]
  },
  {
   "cell_type": "code",
   "execution_count": 3,
   "metadata": {},
   "outputs": [
    {
     "name": "stdout",
     "output_type": "stream",
     "text": [
      "now we have a vector a =\n",
      " [[1]\n",
      " [2]\n",
      " [3]\n",
      " [4]\n",
      " [5]\n",
      " [6]\n",
      " [7]\n",
      " [8]\n",
      " [9]]\n",
      "the vector a has 9 elements\n",
      "the vector is represented by a numpy array of shape (9, 1) \n",
      "\n",
      "now we have a matrix B = \n",
      " [[0. 0.]\n",
      " [0. 0.]]\n",
      "the matrix B has 2 rows and 2 columns \n",
      "\n",
      "the vector x =\n",
      " [[1.]\n",
      " [1.]\n",
      " [1.]\n",
      " [1.]\n",
      " [1.]]\n"
     ]
    }
   ],
   "source": [
    "# Important libraries to import:\n",
    "# NumPy: is the fundamental package for matrix computations\n",
    "# matplotlib.pyplot: provides convenient functions for plotting data \n",
    "\n",
    "import numpy as np # use shorthand \"np\" for the numpy library (\"package\")\n",
    "\n",
    "\n",
    "# let's create a vector a of length 9:\n",
    "a = np.array([1,2,3,4,5,6,7,8,9]).reshape(-1,1)\n",
    "dimension=np.shape(a)\n",
    "rows = dimension[0]\n",
    "print(\"now we have a vector a =\\n\",a) \n",
    "print(\"the vector a has\", rows, \"elements\")\n",
    "print(\"the vector is represented by a numpy array of shape\", a.shape, \"\\n\")\n",
    "\n",
    "# create a 2 x 2 matrix, denoted B, which contains only zero entries\n",
    "B = np.zeros((2,2))\n",
    "print(\"now we have a matrix B = \\n\",B)\n",
    "dimension=np.shape(B)      # determine dimensions of matrix B\n",
    "rows = dimension[0]        # first element of dimension is the number of rows \n",
    "cols = dimension[1]        # second element of \"dimension\" is the number of cols\n",
    "print(\"the matrix B has\", rows, \"rows and\", cols, \"columns \\n\")\n",
    "\n",
    "# You can use the numpy function `np.ones(n)` to generate a vector of ones (e.g. `[1,1,1, ..., 1]`) \n",
    "\n",
    "x = np.ones(5).reshape(-1,1) \n",
    "print(\"the vector x =\\n\", x)"
   ]
  },
  {
   "cell_type": "markdown",
   "metadata": {},
   "source": [
    "<a id='LoadDataset'></a>\n",
    "<div class=\" alert alert-info\">\n",
    "    <b>Demo.</b> Matrix Mulplication. \n",
    "  \n",
    "The code snippet below implements a Python function `C, rows, cols = Matrix_multiplication(A, B)` which reads in two matrices $\\mathbf{A}$ and $\\mathbf{B}$ and returns the product $\\mathbf{C}=\\mathbf{A} \\mathbf{B}$ along with the number of rows and columns of the resulting matrix. This demonstrates how to declare a function with multiple input and output parameters.\n",
    "</div>"
   ]
  },
  {
   "cell_type": "code",
   "execution_count": 4,
   "metadata": {},
   "outputs": [],
   "source": [
    "def Matrix_multiplication(A, B):\n",
    "    \"\"\"\n",
    "    Compute the matrix multiplication A*B and its shape\n",
    "    \n",
    "    :param A: array-like, shape=(m, n)\n",
    "    :param B: array-like, shape=(o, p)\n",
    "    \n",
    "    :return: The matrix being the result of the multiplication, the number of rows and the number columns \n",
    "    \"\"\"\n",
    "    #We now construct another matrix H by multiplying the matrices A and B using the function np.dot():\n",
    "    H = np.dot(A,B)\n",
    "    shape = H.shape\n",
    "    \n",
    "    # A matrix that is the product of two matrices with r1 and r2 rows\n",
    "    # and c1 and c2 columns will have r1 rows and c2 columns \n",
    "    \n",
    "    rows = shape[0]\n",
    "    cols = shape[1]\n",
    "    \n",
    "    return H, rows, cols"
   ]
  },
  {
   "cell_type": "markdown",
   "metadata": {},
   "source": [
    "<a id='LoadDataset'></a>\n",
    "<div class=\" alert alert-info\">\n",
    "    <b>Demo.</b> Matrix Operations. \n",
    "  \n",
    "<p>\n",
    "The code snippet below shows how to create numpy array that represent matrices and vectors and how to perform \n",
    "certain operations. \n",
    "</p>\n",
    "\n",
    "</div>"
   ]
  },
  {
   "cell_type": "code",
   "execution_count": 6,
   "metadata": {},
   "outputs": [
    {
     "name": "stdout",
     "output_type": "stream",
     "text": [
      "C = \n",
      " [[1 4 0]\n",
      " [3 2 5]\n",
      " [6 2 1]]\n",
      "I = \n",
      " [[1. 0. 0.]\n",
      " [0. 1. 0.]\n",
      " [0. 0. 1.]]\n",
      "D = C * I = \n",
      " [[1. 4. 0.]\n",
      " [3. 2. 5.]\n",
      " [6. 2. 1.]]\n",
      "\n",
      "\n",
      "second column of D = [4. 2. 2.]\n",
      "second row of D = [3. 2. 5.]\n",
      "\n",
      "\n",
      "now we have a matrix F = \n",
      " [[1 2]\n",
      " [3 4]\n",
      " [5 6]]\n",
      "\n",
      " the matrix F has 3 rows and 2 columns\n",
      "\n",
      "\n",
      "\n",
      "now we have a matrix G = \n",
      " [[1 2 3]\n",
      " [3 4 5]]\n",
      "\n",
      " the matrix G has 2 rows and 3 columns\n",
      "\n",
      "the product H=F*G is H = \n",
      " [[ 7 10 13]\n",
      " [15 22 29]\n",
      " [23 34 45]]\n",
      "\n",
      " the matrix H has 3 rows and 3 columns\n",
      "\n",
      "L = \n",
      " [[[ 0  1]\n",
      "  [ 2  3]]\n",
      "\n",
      " [[ 4  5]\n",
      "  [ 6  7]]\n",
      "\n",
      " [[ 9 10]\n",
      "  [11 12]]]\n"
     ]
    }
   ],
   "source": [
    "# create two 3*3 matrices C and I:\n",
    "C = np.array([[1,4,0],[3,2,5],[6,2,1]])\n",
    "I = np.eye(3)\n",
    "\n",
    "print(\"C = \\n\",C)\n",
    "print(\"I = \\n\",I)\n",
    "\n",
    "D, rows, cols = Matrix_multiplication(C,I)\n",
    "\n",
    "print(\"D = C * I = \\n\",D)\n",
    "print(\"\\n\") # create a line break \n",
    "\n",
    "\n",
    "# remember that indexing starts at 0 in Python ! \n",
    "\n",
    "secondcol = D[:,1]   # read second column of D into array `secondcol` \n",
    "secondrow = D[1,:]   # read second row of D into array `secondrow`\n",
    "\n",
    "print(\"second column of D =\", secondcol)\n",
    "print(\"second row of D =\", secondrow)\n",
    "print(\"\\n\") # create a line break \n",
    "\n",
    "# let us now determine the size of a matrix that \n",
    "# is obtained as the product of two other matrices F and G\n",
    "F = np.array([[1,2],[3,4],[5,6]])\n",
    "\n",
    "print(\"now we have a matrix F = \\n\", F)\n",
    "print(\"\\n the matrix F has\", F.shape[0], \"rows and\", F.shape[1], \"columns\\n\")\n",
    "print(\"\\n\") # create a line break \n",
    "\n",
    "G = np.array([[1, 2, 3], [3, 4, 5]])\n",
    "\n",
    "print(\"now we have a matrix G = \\n\", G)\n",
    "print(\"\\n the matrix G has\", G.shape[0], \"rows and\", G.shape[1], \"columns\\n\")\n",
    "\n",
    "# what will be the size of F*G ?\n",
    "H, rows, cols = Matrix_multiplication(F,G)\n",
    "\n",
    "print(\"the product H=F*G is H = \\n\", H)\n",
    "print(\"\\n the matrix H has\", rows, \"rows and\", cols, \"columns\\n\")\n",
    "\n",
    "# In the last step we want to take a look at how to build a 3-dimensional array\n",
    "# by using the np.array() method\n",
    "\n",
    "# you can also create a 3 dimensional array by using np.empty, np.zeros etc. \n",
    "# and specifying a third parameter e.g. np.zeros((2,3,4))\n",
    "\n",
    "L = np.array([[[0, 1],[2, 3]], [[4, 5],[6, 7]], [[9,10],[11,12]]]) #size 2,2,3\n",
    "\n",
    "print(\"L = \\n\", L) #you can see it as 3 matrices of size 2x2 each"
   ]
  },
  {
   "cell_type": "markdown",
   "metadata": {},
   "source": [
    "<a id='LoadDataset'></a>\n",
    "<div class=\" alert alert-info\">\n",
    "    <b>Demo.</b> Dictionary of Wine Data. \n",
    "\n",
    "The code snippet below demonstrates how to read in a toy dataset using a Python library `sklearn` and store it in a dictionary `wine`. This dataset contains information about several wine samples. Each wine sample is characterized by a set of features (which can be read out using `wine['data']`) and a wine category (which can be read out using `wine['target']`). \n",
    "\n",
    "<div>"
   ]
  },
  {
   "cell_type": "code",
   "execution_count": 7,
   "metadata": {},
   "outputs": [
    {
     "name": "stdout",
     "output_type": "stream",
     "text": [
      "data:\t\t (178, 13) \n",
      "labels shape:\t (178,)\n",
      "------------------------------------------------\n",
      "['alcohol', 'malic_acid', 'ash', 'alcalinity_of_ash', 'magnesium', 'total_phenols', 'flavanoids', 'nonflavanoid_phenols', 'proanthocyanins', 'color_intensity', 'hue', 'od280/od315_of_diluted_wines', 'proline']\n"
     ]
    }
   ],
   "source": [
    "# Dictionaries can contain vectors/matrices as values\n",
    "\n",
    "# Loading wine dataset\n",
    "from sklearn import datasets\n",
    "wine = datasets.load_wine() # loading the wine dataset from sklearn datasets\n",
    "\n",
    "# keys are strings and values are vectors/matrices\n",
    "X = wine['data']   # read in the value for the key \"data\"\n",
    "y = wine['target'] # read in the value for the key \"target\"\n",
    "\n",
    "# print out the shape of the vectors/matrices\n",
    "print('data:\\t\\t', X.shape, '\\nlabels shape:\\t', y.shape)\n",
    "print('------------------------------------------------')\n",
    "# print the feature names in the dataset, key is a string, value is an array of string\n",
    "print(wine['feature_names'])"
   ]
  },
  {
   "cell_type": "markdown",
   "metadata": {},
   "source": [
    "<a id=\"Q3\"></a>\n",
    "\n",
    "## Let's Grab Data!\n",
    "\n",
    "One of the key components of any machine learning problem (and method) is data. There are many different sources of data such as files stored on a hard-disk or internet databases such as [Wikidata](https://www.wikidata.org/wiki/Wikidata:Main_Page). Another source of data is provided in ready-made Python functions which load specific toy datasets https://scikit-learn.org/stable/datasets/index.html. \n"
   ]
  },
  {
   "cell_type": "code",
   "execution_count": 8,
   "metadata": {},
   "outputs": [],
   "source": [
    "import pandas as pd             # use shorthand \"pd\" for lib \"pandas\" which provides methods for \n",
    "                                # loading and saving data from and to files\n",
    "\n",
    "def LoadData(filename):\n",
    "    \"\"\"\n",
    "    Load the dataframe reading the file with the filename given as a parameter.\n",
    "    Print the sample size m and the feature length n.\n",
    "\n",
    "    :input: String path to the file\n",
    "\n",
    "    :return: numpy array of shape=(m, n), the sample size m and the feature length n    \n",
    "    \"\"\"\n",
    "\n",
    "    df = pd.read_csv(filename)\n",
    "    X = df.values # convert the data frame to numpy array\n",
    "\n",
    "    n = X.shape[0]  \n",
    "    m = X.shape[1]\n",
    "    print('sample size m=', n)\n",
    "    print('feature length n=', m)\n",
    "    #raise NotImplementedError()\n",
    "\n",
    "    return X, m, n"
   ]
  },
  {
   "cell_type": "markdown",
   "metadata": {},
   "source": [
    "The code snippet below executes the function `LoadData` and performs some tests. "
   ]
  },
  {
   "cell_type": "code",
   "execution_count": 9,
   "metadata": {},
   "outputs": [
    {
     "name": "stdout",
     "output_type": "stream",
     "text": [
      "sample size m= 600\n",
      "feature length n= 2\n",
      "Sanity checks passed! Some hidden tests may still fail.\n"
     ]
    }
   ],
   "source": [
    "X, m, n = LoadData(\"Data.csv\")\n",
    "assert X.shape == (600,2), f'Expected dataframe to be of different size than {df.shape}'\n",
    "\n",
    "\n",
    "print(\"Sanity checks passed! Some hidden tests may still fail.\")\n"
   ]
  },
  {
   "cell_type": "code",
   "execution_count": 10,
   "metadata": {},
   "outputs": [
    {
     "name": "stdout",
     "output_type": "stream",
     "text": [
      "[[  5. 162.  60.]\n",
      " [  2. 110.  60.]\n",
      " [ 12. 101. 101.]\n",
      " [ 12. 105.  37.]\n",
      " [ 13. 155.  58.]\n",
      " [  4. 101.  42.]\n",
      " [  8. 101.  38.]\n",
      " [  6. 125.  40.]\n",
      " [ 15. 200.  40.]\n",
      " [ 17. 251. 250.]\n",
      " [ 17. 120.  38.]\n",
      " [ 13. 210. 115.]\n",
      " [ 14. 215. 105.]\n",
      " [  1.  50.  50.]\n",
      " [  6.  70.  31.]\n",
      " [ 12. 210. 120.]\n",
      " [  4.  60.  25.]\n",
      " [ 11. 230.  80.]\n",
      " [ 15. 225.  73.]\n",
      " [  2. 110.  43.]]\n",
      "Shape of X matrix: (20, 3)\n",
      "Exercise - 20 observations on 3 exercise variables: Chins, Situps and Jumps.\n",
      "\n",
      "\n",
      "shape of matrix Y: (20, 3)\n",
      "20 data points, each containing values of 3 physiological variables: Weight, Waist and Pulse.\n",
      "[[191.  36.  50.]\n",
      " [189.  37.  52.]\n",
      " [193.  38.  58.]\n",
      " [162.  35.  62.]\n",
      " [189.  35.  46.]\n",
      " [182.  36.  56.]\n",
      " [211.  38.  56.]\n",
      " [167.  34.  60.]\n",
      " [176.  31.  74.]\n",
      " [154.  33.  56.]\n",
      " [169.  34.  50.]\n",
      " [166.  33.  52.]\n",
      " [154.  34.  64.]\n",
      " [247.  46.  50.]\n",
      " [193.  36.  46.]\n",
      " [202.  37.  62.]\n",
      " [176.  37.  54.]\n",
      " [157.  32.  52.]\n",
      " [156.  33.  54.]\n",
      " [138.  33.  68.]]\n"
     ]
    }
   ],
   "source": [
    "# Load the dataset and store data and labels in variables\n",
    "from sklearn import datasets\n",
    "\n",
    "linnerud = datasets.load_linnerud() \n",
    "#print(linnerud)\n",
    "#raise NotImplementedError()\n",
    "\n",
    "X = linnerud['data'] \n",
    "# YOUR CODE HERE\n",
    "#raise NotImplementedError()\n",
    "print(X)\n",
    "print('Shape of X matrix:', X.shape)\n",
    "print(\"Exercise - 20 observations on 3 exercise variables: Chins, Situps and Jumps.\")\n",
    "print('\\n')\n",
    "\n",
    "# Target also contains three variables, Weight, Waist and Pulse. Here we will use only the weight variable.\n",
    "Y = linnerud['target']\n",
    "# YOUR CODE HERE\n",
    "#raise NotImplementedError()\n",
    "print('shape of matrix Y:', Y.shape)\n",
    "print(\"20 data points, each containing values of 3 physiological variables: Weight, Waist and Pulse.\")\n",
    "print(Y)"
   ]
  },
  {
   "cell_type": "markdown",
   "metadata": {},
   "source": [
    "<a id='wikidata'></a>\n",
    "<div class=\" alert alert-info\">\n",
    "    <b>Demo.</b> Load Data from https://www.wikidata.org/. \n",
    " \n",
    "\n",
    "The code snippet below shows how to query data from https://www.wikidata.org/ in order to obtain current statistics about countries belonging to the European Union (EU). Beside reading in data from wikidata, the code below also shows how to fill in (impute) missing data (fields having a \"NaN\"). In order to fill missing data fields, different methods can be used. The basic idea behind imputation methods is to interpolate between similar data points. The code below implements a simple interpolation by using the mean of all known values of the same property (or feature).  \n",
    "\n",
    "\n",
    "</div>"
   ]
  },
  {
   "cell_type": "code",
   "execution_count": 11,
   "metadata": {},
   "outputs": [
    {
     "name": "stdout",
     "output_type": "stream",
     "text": [
      "raw data\n",
      "========\n",
      "\n",
      "                            population           area  medianIncome     age  \\\n",
      "country                                                                       \n",
      "France                      66628000.0  643801.000000       30364.0     NaN   \n",
      "Germany                     83149300.0  357400.000000       33333.0     NaN   \n",
      "Ireland                      4761865.0   70273.000000       25969.0    83.0   \n",
      "Hungary                      9937628.0   93011.400000           NaN  1020.0   \n",
      "Spain                       46733038.0  505990.000000       21959.0   541.0   \n",
      "Belgium                     11431406.0   30528.000000       31112.0   190.0   \n",
      "Luxembourg                    626108.0    2586.400000       52493.0   205.0   \n",
      "Finland                      5501043.0  338424.380000       34615.0   103.0   \n",
      "Sweden                      10343403.0  528861.060000       50514.0  1320.0   \n",
      "Denmark                      5827463.0   42925.460000       44360.0  1220.0   \n",
      "Poland                      38433600.0  312683.000000           NaN   102.0   \n",
      "Lithuania                    2790842.0   65300.000000           NaN   102.0   \n",
      "Italy                       60317000.0  301338.000000       20085.0    74.0   \n",
      "Austria                      8809212.0   83878.990000       34911.0   102.0   \n",
      "Greece                      10760421.0  131957.000000           NaN   199.0   \n",
      "Portugal                    10600000.0   92212.000000           NaN   877.0   \n",
      "Netherlands                 17282163.0   41543.000000       38584.0    66.0   \n",
      "United Kingdom              66022273.0  242495.406794       31617.0    93.0   \n",
      "Estonia                      1324820.0   45339.000000           NaN   102.0   \n",
      "Latvia                       1909000.0   64589.000000           NaN   102.0   \n",
      "Czech Republic              10693939.0   78866.000000       27320.0    27.0   \n",
      "Slovakia                     5397036.0   49035.000000           NaN    81.0   \n",
      "Slovenia                     2066880.0   20273.000000       25085.0    29.0   \n",
      "Romania                     19586539.0  238397.000000           NaN   161.0   \n",
      "Bulgaria                     7000039.0  110993.600000           NaN   112.0   \n",
      "Croatia                      4105493.0   56594.000000           NaN    29.0   \n",
      "Cyprus                       1141166.0    9242.450000           NaN    60.0   \n",
      "Malta                         465292.0     316.000000           NaN    56.0   \n",
      "Kingdom of the Netherlands  17100715.0   42201.000000           NaN   205.0   \n",
      "\n",
      "                              nominalGDP  \n",
      "country                                   \n",
      "France                      2.582501e+12  \n",
      "Germany                     3.677439e+12  \n",
      "Ireland                     3.337308e+11  \n",
      "Hungary                     1.391350e+11  \n",
      "Spain                       1.311320e+12  \n",
      "Belgium                     4.926813e+11  \n",
      "Luxembourg                  6.240446e+10  \n",
      "Finland                     2.518849e+11  \n",
      "Sweden                      5.380405e+11  \n",
      "Denmark                     3.248720e+11  \n",
      "Poland                      5.245096e+11  \n",
      "Lithuania                   4.716830e+10  \n",
      "Italy                       1.934798e+12  \n",
      "Austria                     4.165957e+11  \n",
      "Greece                      2.002883e+11  \n",
      "Portugal                    2.175711e+11  \n",
      "Netherlands                 8.262003e+11  \n",
      "United Kingdom              2.622434e+12  \n",
      "Estonia                     3.031200e+10  \n",
      "Latvia                      3.026445e+10  \n",
      "Czech Republic              2.157255e+11  \n",
      "Slovakia                    9.576903e+10  \n",
      "Slovenia                    4.876966e+10  \n",
      "Romania                     1.866906e+11  \n",
      "Bulgaria                    5.683152e+10  \n",
      "Croatia                     5.484918e+10  \n",
      "Cyprus                      2.165179e+10  \n",
      "Malta                       1.253775e+10  \n",
      "Kingdom of the Netherlands           NaN  \n",
      "\n",
      "\n",
      "imputed data\n",
      "============\n",
      "\n",
      "                            population           area  medianIncome  \\\n",
      "country                                                               \n",
      "France                      66628000.0  643801.000000  30364.000000   \n",
      "Germany                     83149300.0  357400.000000  33333.000000   \n",
      "Ireland                      4761865.0   70273.000000  25969.000000   \n",
      "Hungary                      9937628.0   93011.400000  33488.066667   \n",
      "Spain                       46733038.0  505990.000000  21959.000000   \n",
      "Belgium                     11431406.0   30528.000000  31112.000000   \n",
      "Luxembourg                    626108.0    2586.400000  52493.000000   \n",
      "Finland                      5501043.0  338424.380000  34615.000000   \n",
      "Sweden                      10343403.0  528861.060000  50514.000000   \n",
      "Denmark                      5827463.0   42925.460000  44360.000000   \n",
      "Poland                      38433600.0  312683.000000  33488.066667   \n",
      "Lithuania                    2790842.0   65300.000000  33488.066667   \n",
      "Italy                       60317000.0  301338.000000  20085.000000   \n",
      "Austria                      8809212.0   83878.990000  34911.000000   \n",
      "Greece                      10760421.0  131957.000000  33488.066667   \n",
      "Portugal                    10600000.0   92212.000000  33488.066667   \n",
      "Netherlands                 17282163.0   41543.000000  38584.000000   \n",
      "United Kingdom              66022273.0  242495.406794  31617.000000   \n",
      "Estonia                      1324820.0   45339.000000  33488.066667   \n",
      "Latvia                       1909000.0   64589.000000  33488.066667   \n",
      "Czech Republic              10693939.0   78866.000000  27320.000000   \n",
      "Slovakia                     5397036.0   49035.000000  33488.066667   \n",
      "Slovenia                     2066880.0   20273.000000  25085.000000   \n",
      "Romania                     19586539.0  238397.000000  33488.066667   \n",
      "Bulgaria                     7000039.0  110993.600000  33488.066667   \n",
      "Croatia                      4105493.0   56594.000000  33488.066667   \n",
      "Cyprus                       1141166.0    9242.450000  33488.066667   \n",
      "Malta                         465292.0     316.000000  33488.066667   \n",
      "Kingdom of the Netherlands  17100715.0   42201.000000  33488.066667   \n",
      "\n",
      "                                    age    nominalGDP  \n",
      "country                                                \n",
      "France                       268.925926  2.582501e+12  \n",
      "Germany                      268.925926  3.677439e+12  \n",
      "Ireland                       83.000000  3.337308e+11  \n",
      "Hungary                     1020.000000  1.391350e+11  \n",
      "Spain                        541.000000  1.311320e+12  \n",
      "Belgium                      190.000000  4.926813e+11  \n",
      "Luxembourg                   205.000000  6.240446e+10  \n",
      "Finland                      103.000000  2.518849e+11  \n",
      "Sweden                      1320.000000  5.380405e+11  \n",
      "Denmark                     1220.000000  3.248720e+11  \n",
      "Poland                       102.000000  5.245096e+11  \n",
      "Lithuania                    102.000000  4.716830e+10  \n",
      "Italy                         74.000000  1.934798e+12  \n",
      "Austria                      102.000000  4.165957e+11  \n",
      "Greece                       199.000000  2.002883e+11  \n",
      "Portugal                     877.000000  2.175711e+11  \n",
      "Netherlands                   66.000000  8.262003e+11  \n",
      "United Kingdom                93.000000  2.622434e+12  \n",
      "Estonia                      102.000000  3.031200e+10  \n",
      "Latvia                       102.000000  3.026445e+10  \n",
      "Czech Republic                27.000000  2.157255e+11  \n",
      "Slovakia                      81.000000  9.576903e+10  \n",
      "Slovenia                      29.000000  4.876966e+10  \n",
      "Romania                      161.000000  1.866906e+11  \n",
      "Bulgaria                     112.000000  5.683152e+10  \n",
      "Croatia                       29.000000  5.484918e+10  \n",
      "Cyprus                        60.000000  2.165179e+10  \n",
      "Malta                         56.000000  1.253775e+10  \n",
      "Kingdom of the Netherlands   205.000000  6.163206e+11  \n"
     ]
    }
   ],
   "source": [
    "import requests\n",
    "import pandas as pd\n",
    "from collections import OrderedDict\n",
    "import matplotlib.pyplot as plt\n",
    "\n",
    "# E.g. read in key figures (gdp, average age, population, ...) of all countries.\n",
    "# only EU countries: ?country wdt:P463 wd:Q458\n",
    "\n",
    "url = 'https://query.wikidata.org/sparql'\n",
    "query = \"\"\"\n",
    "SELECT\n",
    "  ?countryLabel ?population ?area ?medianIncome ?age ?nominalGDP\n",
    "WHERE {\n",
    "  ?country wdt:P463 wd:Q458\n",
    "  OPTIONAL { ?country wdt:P1082 ?population }\n",
    "  OPTIONAL { ?country wdt:P2046 ?area }\n",
    "  OPTIONAL { ?country wdt:P3529 ?medianIncome }\n",
    "  OPTIONAL { ?country wdt:P571 ?inception.\n",
    "    BIND(year(now()) - year(?inception) AS ?age)\n",
    "  }\n",
    "  OPTIONAL { ?country wdt:P2131 ?nominalGDP}\n",
    "  SERVICE wikibase:label { bd:serviceParam wikibase:language \"en\". }\n",
    "}\n",
    "\"\"\"\n",
    "\n",
    "r = requests.get(url, params={'format': 'json', 'query': query}) #execute the query\n",
    "data = r.json()\n",
    "\n",
    "countries = []\n",
    "#cleans the data because some values are missing\n",
    "for item in data['results']['bindings']:\n",
    "    countries.append(OrderedDict({'country': item['countryLabel']['value'],\n",
    "'population': item['population']['value']\n",
    "    if 'population' in item else None,\n",
    "'area': item['area']['value']\n",
    "    if 'area' in item else None,\n",
    "'medianIncome': item['medianIncome']['value']\n",
    "    if 'medianIncome' in item else None,\n",
    "'age': item['age']['value']\n",
    "    if 'age' in item else None,\n",
    "'nominalGDP': item['nominalGDP']['value']\n",
    "    if 'nominalGDP' in item else None}))\n",
    "\n",
    "df_wikidata=pd.DataFrame(countries)\n",
    "df_wikidata.set_index('country', inplace=True)\n",
    "df_wikidata=df_wikidata.astype({'population': float, 'area': float, 'medianIncome': float, 'age': float, 'nominalGDP': float})\n",
    "df_wikidata=df_wikidata.astype({'area': float, 'medianIncome': float, 'age': float, 'nominalGDP': float})\n",
    "print(\"raw data\")\n",
    "print(\"========\\n\")\n",
    "print(df_wikidata)\n",
    "\n",
    "df_wikidata.fillna(df_wikidata.mean(), inplace=True)   # replace missing data \"Nan\" with means \n",
    "data_wikidata = df_wikidata.values[:,0:2]              # needed for Task5 only \n",
    "\n",
    "print(\"\\n\\nimputed data\")\n",
    "print(\"============\\n\")\n",
    "\n",
    "print(df_wikidata)"
   ]
  },
  {
   "cell_type": "markdown",
   "metadata": {},
   "source": [
    "<a id=\"Q4\"></a>\n",
    "## Data Visualization - A Picture is Worth A Thousand Words \n",
    "\n",
    "Using the Python library (or package) `matplotlib` (https://matplotlib.org/index.html) to plot data.\n",
    "\n"
   ]
  },
  {
   "cell_type": "markdown",
   "metadata": {},
   "source": [
    "\n",
    "<a id='Scatterplots'></a>\n",
    "\n",
    "<div class=\" alert alert-info\">\n",
    " \n",
    " <b>Demo.</b> Scatterplots. \n",
    " \n",
    " \n",
    "The following code snippet implements the function `axes=ScatterPlots()` that returns an axes object which represents a figure containing two scatterplots: \n",
    "\n",
    "- one scatter plot depicting the feature vectors stored in \"Data.csv\"\n",
    "\n",
    "- one scatter plot depicting the feature vectors stored in \"Data.csv\" but divided into 3 subsets corresponding to the first 200, the second 200, and the last 200 rows in \"Data.csv\". This second scatter plot uses different colors for the (feature vectors from) different subsets.\n",
    "\n",
    "</div>"
   ]
  },
  {
   "cell_type": "code",
   "execution_count": 14,
   "metadata": {},
   "outputs": [],
   "source": [
    "def ScatterPlots():\n",
    "    \"\"\"\n",
    "    Plot the scatterplot of all the data, then plot the scatterplot of the 3 subsets,\n",
    "    each one with a different color\n",
    "\n",
    "    return: axes object used for testing, containing the 2 scatterplots.    \n",
    "    \"\"\"\n",
    "\n",
    "    fig, axes = plt.subplots(1, 2, figsize=(15, 5))\n",
    "    data, _, _, = LoadData(\"Data.csv\")  # load data from csv file\n",
    "\n",
    "    colors = ['r', 'g', 'b']\n",
    "\n",
    "    axes[0].scatter(data[:,0],data[:,1], label='All data')\n",
    "    axes[0].legend()\n",
    "    axes[1].scatter(data[0:200,0],data[0:200,1], c=colors[0], label='first 200 data points')\n",
    "    axes[1].scatter(data[200:400,0],data[200:400,1], c=colors[1], label='second 200 data points')\n",
    "    axes[1].scatter(data[400:600,0],data[400:600,1], c=colors[2], label='third 200 data points')\n",
    "    axes[1].legend()\n",
    "\n",
    "    return axes"
   ]
  },
  {
   "cell_type": "markdown",
   "metadata": {},
   "source": [
    "Let us now try out the function. "
   ]
  },
  {
   "cell_type": "code",
   "execution_count": 15,
   "metadata": {},
   "outputs": [
    {
     "name": "stdout",
     "output_type": "stream",
     "text": [
      "sample size m= 600\n",
      "feature length n= 2\n"
     ]
    },
    {
     "data": {
      "image/png": "[encoded data removed]",
      "text/plain": [
       "<Figure size 1080x360 with 2 Axes>"
      ]
     },
     "metadata": {
      "needs_background": "light"
     },
     "output_type": "display_data"
    }
   ],
   "source": [
    "axes = ScatterPlots()\n",
    "plt.show()"
   ]
  },
  {
   "cell_type": "code",
   "execution_count": 16,
   "metadata": {},
   "outputs": [
    {
     "name": "stdout",
     "output_type": "stream",
     "text": [
      "(20, 1)\n",
      "(20, 1)\n"
     ]
    }
   ],
   "source": [
    "# lets use the dataset that was loaded in previous exercise\n",
    "\n",
    "# lets use only 1 variable from each dataset\n",
    "x = Y[:,0] # we take all observations for Weight (in Lbs) (.T command is used for transposing a numpy array)\n",
    "y = X[:,0] # take all observations for Chins, save to lowercase y\n",
    "x = x*0.453 # convert Lbs to Kg\n",
    "\n",
    "x = x.reshape(-1, 1) # reshape from shape (20,) to (20, 1)\n",
    "y = y.reshape(-1, 1) # reshape from shape (20,) to (20, 1)\n",
    "\n",
    "print(x.shape)\n",
    "print(y.shape)"
   ]
  },
  {
   "cell_type": "code",
   "execution_count": 17,
   "metadata": {},
   "outputs": [
    {
     "data": {
      "image/png": "[encoded data removed]",
      "text/plain": [
       "<Figure size 576x360 with 1 Axes>"
      ]
     },
     "metadata": {
      "needs_background": "light"
     },
     "output_type": "display_data"
    }
   ],
   "source": [
    "fig, axes = plt.subplots(1, 1, figsize=(8,5))\n",
    "axes.scatter(x,y)\n",
    "\n",
    "# YOUR CODE HERE\n",
    "#raise NotImplementedError()\n",
    "\n",
    "axes.set_title('body weight vs. number of chinups of an athlete')\n",
    "axes.set_xlabel('x=body weight (kg)')\n",
    "axes.set_ylabel('y=number of chinups')\n",
    "\n",
    "plt.show() # show the plot\n"
   ]
  },
  {
   "cell_type": "markdown",
   "metadata": {},
   "source": [
    "### Learning the Best Predictor by Fitting a Model"
   ]
  },
  {
   "cell_type": "markdown",
   "metadata": {},
   "source": [
    "<a id=\"Q5\"></a>\n",
    "\n",
    "## Fitting Models to Data - Learning from Data\n",
    "\n",
    "Consider the `Linnerud dataset` above which consists of data about the performance of persons. Each data point of this dataset represents an athlete doing some exercise. We could be interested in how certain properties or features of a person affect the level of performance. In particular, we might be interested in predicting the typical number of chin-ups that a person can do depending on her (or his) body weight. \n",
    "\n",
    "We can formalize this as a machine learning problem with data points characterized by the feature $x$ being the body weight in kg and the label $y$ being the number of chin-ups the person can do. Our goal is to find a predictor function $h(x)$ which takes the body weight $x$ as input and outputs a predicted label $\\hat{y}$ which is the anticipated (or guesses) number of chin-ups that the athlete shoudl be able to do. \n",
    "\n",
    "Choosing a good predictor $h(x)$ from the space of all possible functions $h(\\cdot): \\mathbb{R} \\rightarrow \\mathbb{R}$ is challenging since there are [**so many** of these functions](https://en.wikipedia.org/wiki/Function_of_a_real_variable#Cardinality_of_sets_of_functions_of_a_real_variable). Therefore, we restrict ourselves to the space of linear functions\n",
    "\\begin{equation}\n",
    "h^{(w)}(x) = w \\cdot x. \n",
    "\\end{equation} \n",
    "The set of all of such functions, obtained for different choices for $w$, constitutes the hypothesis space of linear predictors. \n",
    "Each function of this **hypothesis space** is characterized by a single number $w \\in \\mathbb{R}$. Once we specify this number (or weight), we can compute the function value $h^{(w)}(x)$ for any possible feature value $x$. "
   ]
  },
  {
   "cell_type": "markdown",
   "metadata": {},
   "source": [
    "<a id='HypothesisDemo'></a>\n",
    "<div class=\" alert alert-info\">\n",
    "    <b>Demo.</b> Hypothesis Space of Linear Predictor Functions.  \n",
    "    \n",
    "The code snippet below creates a scatterplot of the `Linnerud` dataset and also plots \n",
    "some of the predictor functions from the linear hypothesis space. These predictor functions \n",
    "are of the form $h(x) = w \\cdot x$ with given weight $w$.\n",
    "\n",
    "Hint: In this section we will use the Python library [Scikit-learn (Sklearn)](https://scikit-learn.org/stable/index.html) to fit models to data.\n",
    "\n",
    "</div>"
   ]
  },
  {
   "cell_type": "code",
   "execution_count": 23,
   "metadata": {},
   "outputs": [
    {
     "data": {
      "image/png": "[encoded data removed]",
      "text/plain": [
       "<Figure size 864x432 with 1 Axes>"
      ]
     },
     "metadata": {
      "needs_background": "light"
     },
     "output_type": "display_data"
    }
   ],
   "source": [
    "from sklearn import linear_model\n",
    "\n",
    "reg = linear_model.LinearRegression(fit_intercept=False)\n",
    "reg.fit(x,y)\n",
    "\n",
    "hypothesis_space = []\n",
    "for i in range(0, 10):\n",
    "    reg.coef_ = np.array([[i*0.05]])\n",
    "    n = reg.predict(x)\n",
    "    hypothesis_space.append(n)\n",
    "\n",
    "fig, axes = plt.subplots(1, 1, figsize=(12, 6))\n",
    "    \n",
    "\n",
    "axes.scatter(x, y, color='blue',label=\"data points\")\n",
    "axes.plot(x, hypothesis_space[0], color='green',label='w = {:.2f}'.format(0*0.05))\n",
    "\n",
    "for i in range(len(hypothesis_space)-1):\n",
    "    y_n = hypothesis_space[i+1]\n",
    "    l = 'w = {:.2f}'.format((i+1)*0.05)\n",
    "    axes.plot(x, y_n, label=l)\n",
    "\n",
    "plt.rc('legend', fontsize=10) \n",
    "plt.rc('axes', labelsize=20) \n",
    "plt.rc('xtick', labelsize=20) \n",
    "plt.rc('ytick', labelsize=20) \n",
    "plt.rc('font', size=20)\n",
    "\n",
    "axes.set_title('Several different linear predictor functions')\n",
    "axes.set_xlabel('body weight (kg)')\n",
    "axes.set_ylabel('number of chinups')\n",
    "axes.legend(loc='upper left')\n",
    "plt.show()"
   ]
  },
  {
   "cell_type": "markdown",
   "metadata": {},
   "source": [
    "<a id='FitRegressionDemo'></a>\n",
    "<div class=\" alert alert-info\">\n",
    "    <b>Demo.</b> Fitting a Linear Model to Data.  \n",
    "\n",
    "The code snippet below loads features and labels of data points of the `Linnerud`data set and stores them into the numpy arrays `x`and `y`. The $i$th entry of these numpy array is the feature $x^{(i)}$ and true label $y^{(i)}$, respectively, of the $i$th data point. We then use the Python class `LinearRegression` to fit a linear model to this data points. \n",
    "\n",
    "A linear model corresponds to the set of linear predictor $h(x) = w \\cdot x$ whose weight $w$ is optimized using the function `LinearRegression.fit()` in order to minimize the prediction error $y-h(x)$. The optimal weight $w_{\\rm opt}$ is computed by the function `LinearRegression.fit()` and the corresponding prediction $\\hat{y} = w_{\\rm opt} x$ for a data point with feature $x$ can be computed using `LinearRegression.predict()`. \n",
    "\n",
    "We plot the data points along with the predictions $\\hat{y}^{(i)} = w_{\\rm opt} x^{(i)}$ and the prediction errors $y^{(i)} - \\hat{y}^{(i)} = y^{(i)} - w_{\\rm opt} x^{(i)}$ as red bars. \n",
    "\n",
    "</div>"
   ]
  },
  {
   "cell_type": "code",
   "execution_count": 24,
   "metadata": {},
   "outputs": [
    {
     "name": "stdout",
     "output_type": "stream",
     "text": [
      "optimal weight w = [[0.11143529]]\n"
     ]
    },
    {
     "data": {
      "text/plain": [
       "Text(0, 0.5, 'label y (number of chin-ups)')"
      ]
     },
     "execution_count": 24,
     "metadata": {},
     "output_type": "execute_result"
    },
    {
     "data": {
      "image/png": "[encoded data removed]",
      "text/plain": [
       "<Figure size 576x288 with 1 Axes>"
      ]
     },
     "metadata": {
      "needs_background": "light"
     },
     "output_type": "display_data"
    }
   ],
   "source": [
    "from sklearn import linear_model\n",
    "from sklearn.datasets import make_regression\n",
    "\n",
    "linnerud = datasets.load_linnerud()  # load Linnerud dataset into dictionary `linnerud`\n",
    "X = linnerud['data']    # read out feature vectors stored under key 'data' \n",
    "Y = linnerud['target']  # read out label values stored under key 'target' \n",
    "\n",
    "x = Y.T[0] # weight (in Lbs) for each athlete \n",
    "y = X.T[0] # number of chin ups for each athlete\n",
    "x = x.reshape(-1,1)  # convert to numpy array of shape (m,1)\n",
    "y = y.reshape(-1,1)  # convert to numpy array of shape (m,1)\n",
    "x = x*0.453 # convert Lbs to Kg\n",
    "\n",
    "\n",
    "# plot regression dataset\n",
    "\n",
    "plt.rc('font', size=20)\n",
    "\n",
    "reg = linear_model.LinearRegression(fit_intercept=False)\n",
    "reg.fit(x, y)\n",
    "y_pred = reg.predict(x)\n",
    "\n",
    "print(\"optimal weight w =\", reg.coef_)\n",
    "\n",
    "\n",
    "fig, axes = plt.subplots(1, 1, figsize=(8, 4))\n",
    "axes.scatter(x, y, label='data points')\n",
    "axes.plot(x, y_pred, color='green', label='optimal linear predictor')\n",
    "\n",
    "\n",
    "# indicate error bars\n",
    "\n",
    "axes.plot((x[0], x[0]), (y[0], y_pred[0]), color='red', label='errors') # add label to legend\n",
    "for i in range(len(x)-1):\n",
    "    lineXdata = (x[i+1], x[i+1]) # same X\n",
    "    lineYdata = (y[i+1], y_pred[i+1]) # different Y\n",
    "    axes.plot(lineXdata, lineYdata, color='red')\n",
    "\n",
    "axes.legend()\n",
    "axes.set_xlabel(\"feature x (body weight)\")\n",
    "axes.set_ylabel(\"label y (number of chin-ups)\")\n",
    "    \n",
    "    "
   ]
  },
  {
   "cell_type": "code",
   "execution_count": null,
   "metadata": {},
   "outputs": [],
   "source": []
  }
 ],
 "metadata": {
  "kernelspec": {
   "display_name": "Python 3",
   "language": "python",
   "name": "python3"
  },
  "language_info": {
   "codemirror_mode": {
    "name": "ipython",
    "version": 3
   },
   "file_extension": ".py",
   "mimetype": "text/x-python",
   "name": "python",
   "nbconvert_exporter": "python",
   "pygments_lexer": "ipython3",
   "version": "3.7.3"
  },
  "toc": {
   "base_numbering": 1,
   "nav_menu": {},
   "number_sections": true,
   "sideBar": true,
   "skip_h1_title": false,
   "title_cell": "Table of Contents",
   "title_sidebar": "Contents",
   "toc_cell": false,
   "toc_position": {},
   "toc_section_display": true,
   "toc_window_display": false
  },
  "varInspector": {
   "cols": {
    "lenName": 16,
    "lenType": 16,
    "lenVar": 40
   },
   "kernels_config": {
    "python": {
     "delete_cmd_postfix": "",
     "delete_cmd_prefix": "del ",
     "library": "var_list.py",
     "varRefreshCmd": "print(var_dic_list())"
    },
    "r": {
     "delete_cmd_postfix": ") ",
     "delete_cmd_prefix": "rm(",
     "library": "var_list.r",
     "varRefreshCmd": "cat(var_dic_list()) "
    }
   },
   "types_to_exclude": [
    "module",
    "function",
    "builtin_function_or_method",
    "instance",
    "_Feature"
   ],
   "window_display": false
  }
 },
 "nbformat": 4,
 "nbformat_minor": 2
}
