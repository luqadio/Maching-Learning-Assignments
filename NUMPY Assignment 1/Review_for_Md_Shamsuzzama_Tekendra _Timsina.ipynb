{
 "cells": [
  {
   "cell_type": "markdown",
   "metadata": {},
   "source": [
    "## Review of Assignment(done by Md Shamsuzzama Tekendra Timsina)\n",
    "\n",
    "1. All chapters and their commands were done except 'Broadcast' part.\n",
    "2. The exercise was completed. \n",
    "3. Commands that are not included in the tutorial and their descriptions were used in the assignment.\n",
    "4. Description of some subchapters are missing.(such as 4.5.1)"
   ]
  },
  {
   "cell_type": "code",
   "execution_count": null,
   "metadata": {},
   "outputs": [],
   "source": []
  }
 ],
 "metadata": {
  "kernelspec": {
   "display_name": "Python 3",
   "language": "python",
   "name": "python3"
  },
  "language_info": {
   "codemirror_mode": {
    "name": "ipython",
    "version": 3
   },
   "file_extension": ".py",
   "mimetype": "text/x-python",
   "name": "python",
   "nbconvert_exporter": "python",
   "pygments_lexer": "ipython3",
   "version": "3.6.8"
  }
 },
 "nbformat": 4,
 "nbformat_minor": 2
}
